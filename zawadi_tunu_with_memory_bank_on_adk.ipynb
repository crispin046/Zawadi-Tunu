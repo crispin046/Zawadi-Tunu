{
  "cells": [
    {
      "cell_type": "markdown",
      "metadata": {
        "id": "o4a72q0DgOqL"
      },
      "source": [
        "# Get started with Zawadi Tunu Built with Memory Bank on ADK\n",
        "\n",
        "<table align=\"left\">\n",
        "  <td style=\"text-align: center\">\n",
        "    <a href=\"https://colab.research.google.com/github/mwanyumba7/Zawadi-Tunu/blob/main/zawadi_tunu_with_memory_bank_on_adk.ipynb\">\n",
        "      <img width=\"32px\" src=\"https://www.gstatic.com/pantheon/images/bigquery/welcome_page/colab-logo.svg\" alt=\"Google Colaboratory logo\"><br> Open in Colab\n",
        "    </a>\n",
        "  </td>\n",
        "</table>"
      ]
    },
    {
      "cell_type": "markdown",
      "metadata": {
        "id": "qlXbr9YbMyzc"
      },
      "source": [
        "## Overview\n",
        "We will be building an Agent `Zawadi Tunu` which is an agent ispecialized in gift recommendation engine designed to elevate the act of gift-giving, transforming it from a chore into a deeply personalized and meaningful experience. Built as a demonstration of the Agent Development Kit (ADK) for Gemini and the Vertex AI Memory Bank, this agent's core strength lies in its ability to retain and recall nuanced information over time.\n",
        "\n",
        "Instead of generic suggestions, the agent uses its long-term memory to remember key details gleaned from previous conversations: a niece's age and past birthday presents (like the \"red bike\" in the demo), a spouse's stated preference for aisle seats, or a parent's hint about a desired hobby.\n",
        "\n",
        "This tutorial demonstrates how to build ADK agents with Memory, including both `InMemoryMemoryService` and `VertexAiMemoryBankService`.\n",
        "\n",
        "This tutorial will cover:\n",
        "* Comparing `InMemoryMemoryService` vs. `VertexAiMemoryBankService`.\n",
        "* Generating memories with ADK and Agent Engine Memory Bank.\n",
        "* Retrieving memories with ADK and Agent Engine Memory Bank.\n",
        "* Customizing your Memory Bank instance's behavior."
      ]
    },
    {
      "cell_type": "markdown",
      "metadata": {
        "id": "HSSuQi5wS-AY"
      },
      "source": [
        "## Get started"
      ]
    },
    {
      "cell_type": "markdown",
      "metadata": {
        "id": "ngEAiXw8cQRt"
      },
      "source": [
        "### Install Google Gen AI SDK and other required packages\n"
      ]
    },
    {
      "cell_type": "code",
      "execution_count": 99,
      "metadata": {
        "id": "ZNg0utat73eG"
      },
      "outputs": [],
      "source": [
        "%pip install google-adk google-cloud-aiplatform --upgrade --quiet"
      ]
    },
    {
      "cell_type": "markdown",
      "metadata": {
        "id": "bbArJaMNcWVz"
      },
      "source": [
        "### Authenticate your notebook environment (Colab only)\n",
        "\n",
        "If you're running this notebook on Google Colab, run the cell below to authenticate your environment."
      ]
    },
    {
      "cell_type": "code",
      "execution_count": 100,
      "metadata": {
        "id": "oMmt34WM-08o"
      },
      "outputs": [],
      "source": [
        "import sys\n",
        "\n",
        "if \"google.colab\" in sys.modules:\n",
        "    from google.colab import auth\n",
        "\n",
        "    auth.authenticate_user()"
      ]
    },
    {
      "cell_type": "markdown",
      "metadata": {
        "id": "mbeaDydxcdEo"
      },
      "source": [
        "### Set Google Cloud project information\n",
        "\n",
        "To get started using Vertex AI, you must have an existing Google Cloud project and [enable the Vertex AI API](https://console.cloud.google.com/flows/enableapi?apiid=aiplatform.googleapis.com).\n",
        "\n",
        "Learn more about [setting up a project and a development environment](https://cloud.google.com/vertex-ai/docs/start/cloud-environment)."
      ]
    },
    {
      "cell_type": "code",
      "execution_count": 101,
      "metadata": {
        "id": "PKZ_ad_g_AuU"
      },
      "outputs": [],
      "source": [
        "# Use the environment variable if the user doesn't provide Project ID.\n",
        "import os\n",
        "\n",
        "import vertexai\n",
        "\n",
        "# fmt: off\n",
        "PROJECT = \"data-bwai\"  # @param {type: \"string\", placeholder: \"[your-project-id]\", isTemplate: true}\n",
        "# fmt: on\n",
        "if not PROJECT or PROJECT == \"[your-project-id]\":\n",
        "    PROJECT = str(os.environ.get(\"GOOGLE_CLOUD_PROJECT\"))\n",
        "\n",
        "LOCATION = os.environ.get(\"GOOGLE_CLOUD_REGION\", \"us-central1\")\n",
        "\n",
        "client = vertexai.Client(project=PROJECT, location=LOCATION)\n",
        "\n",
        "# Set environment variables for ADK.\n",
        "os.environ[\"GOOGLE_GENAI_USE_VERTEXAI\"] = \"TRUE\"\n",
        "os.environ[\"GOOGLE_CLOUD_PROJECT\"] = PROJECT\n",
        "os.environ[\"GOOGLE_CLOUD_LOCATION\"] = LOCATION"
      ]
    },
    {
      "cell_type": "markdown",
      "metadata": {
        "id": "b2fe816fc0d0"
      },
      "source": [
        "## (Optional) Set up logging\n",
        "To surface ADK logs in your notebook, you may need to configure the logging level of ADK's logger."
      ]
    },
    {
      "cell_type": "code",
      "execution_count": 102,
      "metadata": {
        "id": "91955e5b44ec"
      },
      "outputs": [],
      "source": [
        "import logging\n",
        "import sys\n",
        "\n",
        "# Set up a general handler for all logs to be printed in your Colab output.\n",
        "# We'll set the overall level to INFO.\n",
        "logging.basicConfig(\n",
        "    level=logging.INFO,\n",
        "    format=\"%(asctime)s - %(name)s - %(levelname)s - %(message)s\",\n",
        "    stream=sys.stdout,\n",
        ")\n",
        "\n",
        "# Get the specific logger used by ADK.\n",
        "adk_logger = logging.getLogger(\"google_adk\")\n",
        "\n",
        "# Set its level to DEBUG to ensure you capture ALL messages from the SDK,\n",
        "# even if the general level is higher (like INFO).\n",
        "adk_logger.setLevel(logging.DEBUG)"
      ]
    },
    {
      "cell_type": "markdown",
      "metadata": {
        "id": "W0n_JRrHNUUX"
      },
      "source": [
        "## Define a simple agent\n",
        "\n",
        "The ADK Runner defines what session service is used by the agent. The session service is responsible for saving the conversation history.\n",
        "\n",
        "In this example, we're using the in-memory session service (`InMemorySessionService`). However, you can use any session service with Memory.\n",
        "\n",
        "If you want to use Google's pre-built Memory tools, you can provide a Memory service to the Runner as well. In this example, we'll start by directly invoking memory so that we can compare different services. So, we're not directly setting `memory_service` in the Runner."
      ]
    },
    {
      "cell_type": "code",
      "execution_count": 103,
      "metadata": {
        "id": "rKxFZmSRAECu"
      },
      "outputs": [],
      "source": [
        "from google.adk.agents import LlmAgent\n",
        "from google.adk.runners import Runner\n",
        "from google.adk.sessions import InMemorySessionService\n",
        "from google.genai.types import Content, Part\n",
        "\n",
        "APP_NAME = \"memory_example_app\"\n",
        "MODEL = \"gemini-2.5-flash\"\n",
        "\n",
        "agent = LlmAgent(\n",
        "    model=MODEL,\n",
        "    name=\"Generic_QA_Agent\",\n",
        "    instruction=\"Answer the user's questions\",\n",
        ")\n",
        "\n",
        "session_service = InMemorySessionService()\n",
        "\n",
        "runner = Runner(agent=agent, app_name=APP_NAME, session_service=session_service)\n",
        "\n",
        "\n",
        "def call_agent(query, session, user_id):\n",
        "    content = Content(role=\"user\", parts=[Part(text=query)])\n",
        "    events = runner.run(user_id=user_id, session_id=session, new_message=content)\n",
        "\n",
        "    for event in events:\n",
        "        if event.is_final_response():\n",
        "            final_response = event.content.parts[0].text\n",
        "            print(\"Agent Response: \", final_response)"
      ]
    },
    {
      "cell_type": "markdown",
      "metadata": {
        "id": "WEAg11vnOyYs"
      },
      "source": [
        "## Introduction to ADK Memory Service\n",
        "ADK memory services offer an interface for creating and searching for memories. The [`BaseMemoryService`](https://github.com/google/adk-python/blob/main/src/google/adk/memory/base_memory_service.py) defines the interface for managing this searchable, long-term knowledge store. Its primary responsibilities are:\n",
        "\n",
        "* Ingesting Information (`add_session_to_memory`): Taking the contents of a (usually completed) Session and adding relevant information to the long-term knowledge store.\n",
        "* Searching Information (`search_memory`): Allowing an agent (typically via a Tool) to query the knowledge store and retrieve relevant snippets or context based on a search query.\n",
        "\n",
        "In this colab, we'll cover two options:\n",
        "\n",
        "* `InMemoryMemoryService`: A in-memory service that allows you to search your conversation history to retrieve the raw dialogue using basic keyword matching.\n",
        "* `VertexAiMemoryBankService`: A remote service that remotely generates memories for \"meaningful\" information from user conversation.\n",
        "\n",
        "\n",
        "You can also interact directly with Memory Bank by using the Agent Engine SDK."
      ]
    },
    {
      "cell_type": "markdown",
      "metadata": {
        "id": "LSZQQAPQWBXs"
      },
      "source": [
        "### `InMemoryMemoryService`\n",
        "\n",
        "[`InMemoryMemoryService`](https://github.com/google/adk-python/blob/main/src/google/adk/memory/in_memory_memory_service.py) persists **all** information in-memory. The events are not condensed, and information is not extracted from them."
      ]
    },
    {
      "cell_type": "code",
      "execution_count": 104,
      "metadata": {
        "id": "HqXCHxi2Cb-n"
      },
      "outputs": [],
      "source": [
        "from google.adk.memory import InMemoryMemoryService\n",
        "\n",
        "in_memory_service = InMemoryMemoryService()"
      ]
    },
    {
      "cell_type": "markdown",
      "metadata": {
        "id": "mTuaUZ1DWG7L"
      },
      "source": [
        "### `VertexAiMemoryBankService`\n",
        "Memory Bank will only persist information that's meaningful for future interactions. [`VertexAiMemoryBankService`](https://github.com/google/adk-python/blob/main/src/google/adk/memory/vertex_ai_memory_bank_service.py) provides a built-in integration between Memory Bank and ADK.\n",
        "\n",
        "To get started with Memory Bank, you need to first create an Agent Engine. This only takes a few seconds.\n",
        "\n",
        "If you don't have a Google Cloud project, you can use [Vertex in Express mode, which only requires an API key](https://cloud.google.com/vertex-ai/generative-ai/docs/agent-engine/memory-bank/set-up#authentication)."
      ]
    },
    {
      "cell_type": "code",
      "execution_count": 105,
      "metadata": {
        "colab": {
          "base_uri": "https://localhost:8080/"
        },
        "id": "rZP-0IVaQ5_N",
        "outputId": "9c9bfc9a-dcd7-4051-d489-787f64e3c0da"
      },
      "outputs": [
        {
          "output_type": "stream",
          "name": "stderr",
          "text": [
            "INFO:vertexai_genai.agentengines:View progress and logs at https://console.cloud.google.com/logs/query?project=data-bwai.\n",
            "INFO:vertexai_genai.agentengines:Agent Engine created. To use it in another session:\n",
            "INFO:vertexai_genai.agentengines:agent_engine=client.agent_engines.get('projects/1023088879905/locations/us-central1/reasoningEngines/5339215270340722688')\n"
          ]
        }
      ],
      "source": [
        "import vertexai\n",
        "from google.adk.memory import VertexAiMemoryBankService\n",
        "\n",
        "client = vertexai.Client(project=PROJECT, location=LOCATION)\n",
        "\n",
        "agent_engine = client.agent_engines.create(\n",
        "    config={\n",
        "        \"context_spec\": {\n",
        "            \"memory_bank_config\": {\n",
        "                \"generation_config\": {\n",
        "                    \"model\": f\"projects/{PROJECT}/locations/{LOCATION}/publishers/google/models/gemini-2.5-flash\"\n",
        "                }\n",
        "            }\n",
        "        }\n",
        "    }\n",
        ")\n",
        "\n",
        "memory_bank_service = VertexAiMemoryBankService(\n",
        "    agent_engine_id=agent_engine.api_resource.name.split(\"/\")[-1],\n",
        "    project=PROJECT,\n",
        "    location=LOCATION,\n",
        ")"
      ]
    },
    {
      "cell_type": "markdown",
      "metadata": {
        "id": "N-IrevumRepq"
      },
      "source": [
        "## Generating Memories\n",
        "\n",
        "Memories will be generated from your conversation history stored in the `Session` object. The ADK `add_session_to_memory` method is responsible for triggering memory generation for your memory service, but the exact behavior depends on which service you use:\n",
        "\n",
        "* `InMemoryMemoryService` persists all information, including the raw dialogue.\n",
        "\n",
        "* `VertexAiMemoryBankService` only persists *meaningful* information. Not all conversations will result in generated memories. Additionally, the information will be condensed to individual, self-contained memories.\n",
        "\n",
        "In this example, we create two sessions:\n",
        "1. `chit_chat_session`, which is a conversation that contains events that may not be meaningful for future interactions.\n",
        "2. `recommendations_session`, which is a conversation about looking for birthday presents for a family member. It includes implicit information that may be helpful for future conversations."
      ]
    },
    {
      "cell_type": "code",
      "execution_count": 106,
      "metadata": {
        "colab": {
          "base_uri": "https://localhost:8080/"
        },
        "id": "VfTIuJfFAR2z",
        "outputId": "bfd22d8e-781f-4de5-9be2-8ded71b6899a"
      },
      "outputs": [
        {
          "output_type": "stream",
          "name": "stderr",
          "text": [
            "INFO:google_adk.google.adk.models.google_llm:Sending out request, model: gemini-2.5-flash, backend: GoogleLLMVariant.VERTEX_AI, stream: False\n",
            "DEBUG:google_adk.google.adk.models.google_llm:\n",
            "LLM Request:\n",
            "-----------------------------------------------------------\n",
            "System Instruction:\n",
            "Answer the user's questions\n",
            "\n",
            "You are an agent. Your internal name is \"Generic_QA_Agent\".\n",
            "-----------------------------------------------------------\n",
            "Contents:\n",
            "{\"parts\":[{\"text\":\"what types of questions do you answer\"}],\"role\":\"user\"}\n",
            "-----------------------------------------------------------\n",
            "Functions:\n",
            "\n",
            "-----------------------------------------------------------\n",
            "\n",
            "INFO:google_adk.google.adk.models.google_llm:Response received from the model.\n",
            "DEBUG:google_adk.google.adk.models.google_llm:\n",
            "LLM Response:\n",
            "-----------------------------------------------------------\n",
            "Text:\n",
            "As a large language model, I can answer a wide variety of questions across many domains. Here are some general categories of questions I can assist with:\n",
            "\n",
            "1.  **Factual Recall and Information Retrieval:**\n",
            "    *   \"What is the capital of France?\"\n",
            "    *   \"Who wrote 'Romeo and Juliet'?\"\n",
            "    *   \"When was the internet invented?\"\n",
            "    *   \"What are the symptoms of a cold?\"\n",
            "\n",
            "2.  **Explanations and Concepts:**\n",
            "    *   \"How does photosynthesis work?\"\n",
            "    *   \"Explain the theory of relativity.\"\n",
            "    *   \"What is blockchain technology?\"\n",
            "    *   \"Define artificial intelligence.\"\n",
            "\n",
            "3.  **Problem-Solving and Logic:**\n",
            "    *   \"How can I fix a leaky faucet?\" (general steps, not specific diagnostics)\n",
            "    *   \"What's the best way to organize my digital files?\"\n",
            "    *   \"Calculate the area of a circle with a radius of 5.\"\n",
            "\n",
            "4.  **Creative Writing and Brainstorming:**\n",
            "    *   \"Write a short story about a talking cat.\"\n",
            "    *   \"Generate ideas for a marketing campaign for a new coffee shop.\"\n",
            "    *   \"Suggest some names for a new tech startup.\"\n",
            "\n",
            "5.  **Summarization and Condensation:**\n",
            "    *   \"Summarize this article for me.\"\n",
            "    *   \"Give me the main points of the plot of 'Moby Dick'.\"\n",
            "\n",
            "6.  **Language and Grammar Assistance:**\n",
            "    *   \"What's the difference between 'affect' and 'effect'?\"\n",
            "    *   \"Correct the grammar in this sentence.\"\n",
            "    *   \"Translate 'hello' into Spanish.\"\n",
            "\n",
            "7.  **Comparisons and Analysis:**\n",
            "    *   \"Compare and contrast iOS and Android.\"\n",
            "    *   \"What are the pros and cons of working remotely?\"\n",
            "\n",
            "8.  **General Advice and Suggestions (non-personal/medical/financial):**\n",
            "    *   \"What are some good hobbies to pick up?\"\n",
            "    *   \"Suggest a recipe for a quick dinner.\"\n",
            "\n",
            "Essentially, if a question can be answered using general knowledge, logical reasoning, or by processing and generating text based on the vast amount of information I was trained on, I can likely provide a helpful response.\n",
            "-----------------------------------------------------------\n",
            "Function calls:\n",
            "\n",
            "-----------------------------------------------------------\n",
            "Raw response:\n",
            "{\"sdk_http_response\":{\"headers\":{\"Content-Type\":\"application/json; charset=UTF-8\",\"Vary\":\"Origin, X-Origin, Referer\",\"Content-Encoding\":\"gzip\",\"Date\":\"Tue, 21 Oct 2025 18:03:36 GMT\",\"Server\":\"scaffolding on HTTPServer2\",\"X-XSS-Protection\":\"0\",\"X-Frame-Options\":\"SAMEORIGIN\",\"X-Content-Type-Options\":\"nosniff\",\"Transfer-Encoding\":\"chunked\"}},\"candidates\":[{\"content\":{\"parts\":[{\"text\":\"As a large language model, I can answer a wide variety of questions across many domains. Here are some general categories of questions I can assist with:\\n\\n1.  **Factual Recall and Information Retrieval:**\\n    *   \\\"What is the capital of France?\\\"\\n    *   \\\"Who wrote 'Romeo and Juliet'?\\\"\\n    *   \\\"When was the internet invented?\\\"\\n    *   \\\"What are the symptoms of a cold?\\\"\\n\\n2.  **Explanations and Concepts:**\\n    *   \\\"How does photosynthesis work?\\\"\\n    *   \\\"Explain the theory of relativity.\\\"\\n    *   \\\"What is blockchain technology?\\\"\\n    *   \\\"Define artificial intelligence.\\\"\\n\\n3.  **Problem-Solving and Logic:**\\n    *   \\\"How can I fix a leaky faucet?\\\" (general steps, not specific diagnostics)\\n    *   \\\"What's the best way to organize my digital files?\\\"\\n    *   \\\"Calculate the area of a circle with a radius of 5.\\\"\\n\\n4.  **Creative Writing and Brainstorming:**\\n    *   \\\"Write a short story about a talking cat.\\\"\\n    *   \\\"Generate ideas for a marketing campaign for a new coffee shop.\\\"\\n    *   \\\"Suggest some names for a new tech startup.\\\"\\n\\n5.  **Summarization and Condensation:**\\n    *   \\\"Summarize this article for me.\\\"\\n    *   \\\"Give me the main points of the plot of 'Moby Dick'.\\\"\\n\\n6.  **Language and Grammar Assistance:**\\n    *   \\\"What's the difference between 'affect' and 'effect'?\\\"\\n    *   \\\"Correct the grammar in this sentence.\\\"\\n    *   \\\"Translate 'hello' into Spanish.\\\"\\n\\n7.  **Comparisons and Analysis:**\\n    *   \\\"Compare and contrast iOS and Android.\\\"\\n    *   \\\"What are the pros and cons of working remotely?\\\"\\n\\n8.  **General Advice and Suggestions (non-personal/medical/financial):**\\n    *   \\\"What are some good hobbies to pick up?\\\"\\n    *   \\\"Suggest a recipe for a quick dinner.\\\"\\n\\nEssentially, if a question can be answered using general knowledge, logical reasoning, or by processing and generating text based on the vast amount of information I was trained on, I can likely provide a helpful response.\"}],\"role\":\"model\"},\"finish_reason\":\"STOP\",\"avg_logprobs\":-0.3120924987161135}],\"create_time\":\"2025-10-21T18:03:32.845971Z\",\"model_version\":\"gemini-2.5-flash\",\"response_id\":\"9Mr3aJPRM9OWmecP1_jTiQs\",\"usage_metadata\":{\"candidates_token_count\":483,\"candidates_tokens_details\":[{\"modality\":\"TEXT\",\"token_count\":483}],\"prompt_token_count\":30,\"prompt_tokens_details\":[{\"modality\":\"TEXT\",\"token_count\":30}],\"thoughts_token_count\":164,\"total_token_count\":677,\"traffic_type\":\"ON_DEMAND\"},\"automatic_function_calling_history\":[]}\n",
            "-----------------------------------------------------------\n",
            "\n"
          ]
        },
        {
          "output_type": "stream",
          "name": "stdout",
          "text": [
            "Agent Response:  As a large language model, I can answer a wide variety of questions across many domains. Here are some general categories of questions I can assist with:\n",
            "\n",
            "1.  **Factual Recall and Information Retrieval:**\n",
            "    *   \"What is the capital of France?\"\n",
            "    *   \"Who wrote 'Romeo and Juliet'?\"\n",
            "    *   \"When was the internet invented?\"\n",
            "    *   \"What are the symptoms of a cold?\"\n",
            "\n",
            "2.  **Explanations and Concepts:**\n",
            "    *   \"How does photosynthesis work?\"\n",
            "    *   \"Explain the theory of relativity.\"\n",
            "    *   \"What is blockchain technology?\"\n",
            "    *   \"Define artificial intelligence.\"\n",
            "\n",
            "3.  **Problem-Solving and Logic:**\n",
            "    *   \"How can I fix a leaky faucet?\" (general steps, not specific diagnostics)\n",
            "    *   \"What's the best way to organize my digital files?\"\n",
            "    *   \"Calculate the area of a circle with a radius of 5.\"\n",
            "\n",
            "4.  **Creative Writing and Brainstorming:**\n",
            "    *   \"Write a short story about a talking cat.\"\n",
            "    *   \"Generate ideas for a marketing campaign for a new coffee shop.\"\n",
            "    *   \"Suggest some names for a new tech startup.\"\n",
            "\n",
            "5.  **Summarization and Condensation:**\n",
            "    *   \"Summarize this article for me.\"\n",
            "    *   \"Give me the main points of the plot of 'Moby Dick'.\"\n",
            "\n",
            "6.  **Language and Grammar Assistance:**\n",
            "    *   \"What's the difference between 'affect' and 'effect'?\"\n",
            "    *   \"Correct the grammar in this sentence.\"\n",
            "    *   \"Translate 'hello' into Spanish.\"\n",
            "\n",
            "7.  **Comparisons and Analysis:**\n",
            "    *   \"Compare and contrast iOS and Android.\"\n",
            "    *   \"What are the pros and cons of working remotely?\"\n",
            "\n",
            "8.  **General Advice and Suggestions (non-personal/medical/financial):**\n",
            "    *   \"What are some good hobbies to pick up?\"\n",
            "    *   \"Suggest a recipe for a quick dinner.\"\n",
            "\n",
            "Essentially, if a question can be answered using general knowledge, logical reasoning, or by processing and generating text based on the vast amount of information I was trained on, I can likely provide a helpful response.\n"
          ]
        }
      ],
      "source": [
        "USER_ID = \"My User\"\n",
        "\n",
        "chit_chat_session = await session_service.create_session(\n",
        "    app_name=APP_NAME, user_id=USER_ID\n",
        ")\n",
        "\n",
        "call_agent(\n",
        "    \"what types of questions do you answer\", chit_chat_session.id, user_id=USER_ID\n",
        ")\n",
        "# Refresh session object.\n",
        "chit_chat_session = await session_service.get_session(\n",
        "    app_name=APP_NAME, user_id=USER_ID, session_id=chit_chat_session.id\n",
        ")"
      ]
    },
    {
      "cell_type": "code",
      "execution_count": 107,
      "metadata": {
        "colab": {
          "base_uri": "https://localhost:8080/"
        },
        "id": "hLvyyXRHEEQH",
        "outputId": "15c8a62b-33a0-4060-8e5d-eb2af977e47f"
      },
      "outputs": [
        {
          "output_type": "stream",
          "name": "stderr",
          "text": [
            "INFO:google_adk.google.adk.models.google_llm:Sending out request, model: gemini-2.5-flash, backend: GoogleLLMVariant.VERTEX_AI, stream: False\n",
            "DEBUG:google_adk.google.adk.models.google_llm:\n",
            "LLM Request:\n",
            "-----------------------------------------------------------\n",
            "System Instruction:\n",
            "Answer the user's questions\n",
            "\n",
            "You are an agent. Your internal name is \"Generic_QA_Agent\".\n",
            "-----------------------------------------------------------\n",
            "Contents:\n",
            "{\"parts\":[{\"text\":\"I have a three year old niece. What recommendations do you have for birthday presents?\"}],\"role\":\"user\"}\n",
            "-----------------------------------------------------------\n",
            "Functions:\n",
            "\n",
            "-----------------------------------------------------------\n",
            "\n",
            "INFO:google_adk.google.adk.models.google_llm:Response received from the model.\n",
            "DEBUG:google_adk.google.adk.models.google_llm:\n",
            "LLM Response:\n",
            "-----------------------------------------------------------\n",
            "Text:\n",
            "That's wonderful! Three-year-olds are at such a fun age for gifts, as they're developing so many new skills and their imaginations are really blossoming.\n",
            "\n",
            "Here are some recommendations for your three-year-old niece, broken down by type:\n",
            "\n",
            "**1. Creative & Art Supplies:**\n",
            "*   **Washable Art Supplies:** Think chunky crayons, markers, finger paints, or even an easel with paper rolls. Washable is key!\n",
            "*   **Play-Doh Sets:** These are always a hit, promoting fine motor skills and imaginative play. Look for sets with tools like rollers and cutters.\n",
            "*   **Sticker Books:** Reusable sticker books or large sticker scene books can keep them engaged for a while.\n",
            "*   **Simple Craft Kits:** Kits designed for toddlers, like mosaic sticker art or chunky bead threading.\n",
            "\n",
            "**2. Building & Construction:**\n",
            "*   **DUPLO Blocks:** These are perfect for this age – large enough to be safe, easy to connect, and allow for endless creative building.\n",
            "*   **Magnetic Tiles (e.g., Magna-Tiles, PicassoTiles):** These are fantastic for open-ended play, understanding shapes, and building complex structures. They can be a bit of an investment but last for years.\n",
            "*   **Large Wooden Blocks:** Classic and durable, great for building towers, houses, or anything they can imagine.\n",
            "\n",
            "**3. Imaginative & Role Play:**\n",
            "*   **Play Kitchen or Food Set:** A perennial favorite! Kids love mimicking adults. You can add a set of play food, pots and pans, or an apron.\n",
            "*   **Dress-Up Clothes:** Capes, crowns, animal costumes, or everyday \"adult\" clothes (like a doctor's coat or firefighter's hat).\n",
            "*   **Dollhouse or Figurines:** Simple dollhouses with chunky figures, or sets like a toy farm with animals, encourage storytelling.\n",
            "*   **Doctor's Kit:** Another great role-play option that can help ease fears about going to the doctor.\n",
            "*   **Puppets:** Hand puppets or finger puppets can spark creative storytelling.\n",
            "\n",
            "**4. Outdoor & Gross Motor Skills:**\n",
            "*   **Tricycle or Balance Bike:** Great for developing coordination and getting some energy out. (Don't forget a helmet!)\n",
            "*   **Scooter (3-wheeled):** A stable, three-wheeled scooter is perfect for a three-year-old learning to balance.\n",
            "*   **Sand and Water Table:** Fantastic for sensory play, especially if she has a yard or outdoor space.\n",
            "*   **Small Trampoline (with handle):** Great for indoor energy release, often with a safety bar.\n",
            "*   **Bubble Machine:** Always a winner!\n",
            "\n",
            "**5. Books & Learning:**\n",
            "*   **Picture Books:** Look for engaging stories, lift-the-flap books, or interactive sound books. Books that cover emotions, friendships, or everyday routines are great.\n",
            "*   **Simple Puzzles:** Chunky wooden puzzles or jigsaw puzzles with 12-24 pieces.\n",
            "*   **Musical Instruments:** A toy keyboard, shakers, or a drum can introduce them to music.\n",
            "\n",
            "**Tips for Choosing:**\n",
            "*   **Consider her existing interests:** Does she love animals, princesses, cars, or helping in the kitchen?\n",
            "*   **Ask her parents:** They might have a wish list or know what she already has plenty of.\n",
            "*   **Look for open-ended toys:** Toys that can be played with in many different ways will hold her interest longer than those with a single function.\n",
            "*   **Safety first:** Always check for age recommendations and ensure there are no small parts that could be choking hazards.\n",
            "\n",
            "I hope this gives you some great ideas for finding the perfect gift for your niece!\n",
            "-----------------------------------------------------------\n",
            "Function calls:\n",
            "\n",
            "-----------------------------------------------------------\n",
            "Raw response:\n",
            "{\"sdk_http_response\":{\"headers\":{\"Content-Type\":\"application/json; charset=UTF-8\",\"Vary\":\"Origin, X-Origin, Referer\",\"Content-Encoding\":\"gzip\",\"Date\":\"Tue, 21 Oct 2025 18:03:45 GMT\",\"Server\":\"scaffolding on HTTPServer2\",\"X-XSS-Protection\":\"0\",\"X-Frame-Options\":\"SAMEORIGIN\",\"X-Content-Type-Options\":\"nosniff\",\"Transfer-Encoding\":\"chunked\"}},\"candidates\":[{\"content\":{\"parts\":[{\"text\":\"That's wonderful! Three-year-olds are at such a fun age for gifts, as they're developing so many new skills and their imaginations are really blossoming.\\n\\nHere are some recommendations for your three-year-old niece, broken down by type:\\n\\n**1. Creative & Art Supplies:**\\n*   **Washable Art Supplies:** Think chunky crayons, markers, finger paints, or even an easel with paper rolls. Washable is key!\\n*   **Play-Doh Sets:** These are always a hit, promoting fine motor skills and imaginative play. Look for sets with tools like rollers and cutters.\\n*   **Sticker Books:** Reusable sticker books or large sticker scene books can keep them engaged for a while.\\n*   **Simple Craft Kits:** Kits designed for toddlers, like mosaic sticker art or chunky bead threading.\\n\\n**2. Building & Construction:**\\n*   **DUPLO Blocks:** These are perfect for this age – large enough to be safe, easy to connect, and allow for endless creative building.\\n*   **Magnetic Tiles (e.g., Magna-Tiles, PicassoTiles):** These are fantastic for open-ended play, understanding shapes, and building complex structures. They can be a bit of an investment but last for years.\\n*   **Large Wooden Blocks:** Classic and durable, great for building towers, houses, or anything they can imagine.\\n\\n**3. Imaginative & Role Play:**\\n*   **Play Kitchen or Food Set:** A perennial favorite! Kids love mimicking adults. You can add a set of play food, pots and pans, or an apron.\\n*   **Dress-Up Clothes:** Capes, crowns, animal costumes, or everyday \\\"adult\\\" clothes (like a doctor's coat or firefighter's hat).\\n*   **Dollhouse or Figurines:** Simple dollhouses with chunky figures, or sets like a toy farm with animals, encourage storytelling.\\n*   **Doctor's Kit:** Another great role-play option that can help ease fears about going to the doctor.\\n*   **Puppets:** Hand puppets or finger puppets can spark creative storytelling.\\n\\n**4. Outdoor & Gross Motor Skills:**\\n*   **Tricycle or Balance Bike:** Great for developing coordination and getting some energy out. (Don't forget a helmet!)\\n*   **Scooter (3-wheeled):** A stable, three-wheeled scooter is perfect for a three-year-old learning to balance.\\n*   **Sand and Water Table:** Fantastic for sensory play, especially if she has a yard or outdoor space.\\n*   **Small Trampoline (with handle):** Great for indoor energy release, often with a safety bar.\\n*   **Bubble Machine:** Always a winner!\\n\\n**5. Books & Learning:**\\n*   **Picture Books:** Look for engaging stories, lift-the-flap books, or interactive sound books. Books that cover emotions, friendships, or everyday routines are great.\\n*   **Simple Puzzles:** Chunky wooden puzzles or jigsaw puzzles with 12-24 pieces.\\n*   **Musical Instruments:** A toy keyboard, shakers, or a drum can introduce them to music.\\n\\n**Tips for Choosing:**\\n*   **Consider her existing interests:** Does she love animals, princesses, cars, or helping in the kitchen?\\n*   **Ask her parents:** They might have a wish list or know what she already has plenty of.\\n*   **Look for open-ended toys:** Toys that can be played with in many different ways will hold her interest longer than those with a single function.\\n*   **Safety first:** Always check for age recommendations and ensure there are no small parts that could be choking hazards.\\n\\nI hope this gives you some great ideas for finding the perfect gift for your niece!\"}],\"role\":\"model\"},\"finish_reason\":\"STOP\",\"avg_logprobs\":-0.5085461194002175}],\"create_time\":\"2025-10-21T18:03:37.366797Z\",\"model_version\":\"gemini-2.5-flash\",\"response_id\":\"-cr3aM2xFoDwmecPnPO00Ag\",\"usage_metadata\":{\"candidates_token_count\":790,\"candidates_tokens_details\":[{\"modality\":\"TEXT\",\"token_count\":790}],\"prompt_token_count\":40,\"prompt_tokens_details\":[{\"modality\":\"TEXT\",\"token_count\":40}],\"thoughts_token_count\":429,\"total_token_count\":1259,\"traffic_type\":\"ON_DEMAND\"},\"automatic_function_calling_history\":[]}\n",
            "-----------------------------------------------------------\n",
            "\n",
            "INFO:google_adk.google.adk.models.google_llm:Sending out request, model: gemini-2.5-flash, backend: GoogleLLMVariant.VERTEX_AI, stream: False\n",
            "DEBUG:google_adk.google.adk.models.google_llm:\n",
            "LLM Request:\n",
            "-----------------------------------------------------------\n",
            "System Instruction:\n",
            "Answer the user's questions\n",
            "\n",
            "You are an agent. Your internal name is \"Generic_QA_Agent\".\n",
            "-----------------------------------------------------------\n",
            "Contents:\n",
            "{\"parts\":[{\"text\":\"I have a three year old niece. What recommendations do you have for birthday presents?\"}],\"role\":\"user\"}\n",
            "{\"parts\":[{\"text\":\"That's wonderful! Three-year-olds are at such a fun age for gifts, as they're developing so many new skills and their imaginations are really blossoming.\\n\\nHere are some recommendations for your three-year-old niece, broken down by type:\\n\\n**1. Creative & Art Supplies:**\\n*   **Washable Art Supplies:** Think chunky crayons, markers, finger paints, or even an easel with paper rolls. Washable is key!\\n*   **Play-Doh Sets:** These are always a hit, promoting fine motor skills and imaginative play. Look for sets with tools like rollers and cutters.\\n*   **Sticker Books:** Reusable sticker books or large sticker scene books can keep them engaged for a while.\\n*   **Simple Craft Kits:** Kits designed for toddlers, like mosaic sticker art or chunky bead threading.\\n\\n**2. Building & Construction:**\\n*   **DUPLO Blocks:** These are perfect for this age – large enough to be safe, easy to connect, and allow for endless creative building.\\n*   **Magnetic Tiles (e.g., Magna-Tiles, PicassoTiles):** These are fantastic for open-ended play, understanding shapes, and building complex structures. They can be a bit of an investment but last for years.\\n*   **Large Wooden Blocks:** Classic and durable, great for building towers, houses, or anything they can imagine.\\n\\n**3. Imaginative & Role Play:**\\n*   **Play Kitchen or Food Set:** A perennial favorite! Kids love mimicking adults. You can add a set of play food, pots and pans, or an apron.\\n*   **Dress-Up Clothes:** Capes, crowns, animal costumes, or everyday \\\"adult\\\" clothes (like a doctor's coat or firefighter's hat).\\n*   **Dollhouse or Figurines:** Simple dollhouses with chunky figures, or sets like a toy farm with animals, encourage storytelling.\\n*   **Doctor's Kit:** Another great role-play option that can help ease fears about going to the doctor.\\n*   **Puppets:** Hand puppets or finger puppets can spark creative storytelling.\\n\\n**4. Outdoor & Gross Motor Skills:**\\n*   **Tricycle or Balance Bike:** Great for developing coordination and getting some energy out. (Don't forget a helmet!)\\n*   **Scooter (3-wheeled):** A stable, three-wheeled scooter is perfect for a three-year-old learning to balance.\\n*   **Sand and Water Table:** Fantastic for sensory play, especially if she has a yard or outdoor space.\\n*   **Small Trampoline (with handle):** Great for indoor energy release, often with a safety bar.\\n*   **Bubble Machine:** Always a winner!\\n\\n**5. Books & Learning:**\\n*   **Picture Books:** Look for engaging stories, lift-the-flap books, or interactive sound books. Books that cover emotions, friendships, or everyday routines are great.\\n*   **Simple Puzzles:** Chunky wooden puzzles or jigsaw puzzles with 12-24 pieces.\\n*   **Musical Instruments:** A toy keyboard, shakers, or a drum can introduce them to music.\\n\\n**Tips for Choosing:**\\n*   **Consider her existing interests:** Does she love animals, princesses, cars, or helping in the kitchen?\\n*   **Ask her parents:** They might have a wish list or know what she already has plenty of.\\n*   **Look for open-ended toys:** Toys that can be played with in many different ways will hold her interest longer than those with a single function.\\n*   **Safety first:** Always check for age recommendations and ensure there are no small parts that could be choking hazards.\\n\\nI hope this gives you some great ideas for finding the perfect gift for your niece!\"}],\"role\":\"model\"}\n",
            "{\"parts\":[{\"text\":\"I like the idea of a bike. Are there any age appropriate options?\"}],\"role\":\"user\"}\n",
            "-----------------------------------------------------------\n",
            "Functions:\n",
            "\n",
            "-----------------------------------------------------------\n",
            "\n"
          ]
        },
        {
          "output_type": "stream",
          "name": "stdout",
          "text": [
            "Agent Response:  That's wonderful! Three-year-olds are at such a fun age for gifts, as they're developing so many new skills and their imaginations are really blossoming.\n",
            "\n",
            "Here are some recommendations for your three-year-old niece, broken down by type:\n",
            "\n",
            "**1. Creative & Art Supplies:**\n",
            "*   **Washable Art Supplies:** Think chunky crayons, markers, finger paints, or even an easel with paper rolls. Washable is key!\n",
            "*   **Play-Doh Sets:** These are always a hit, promoting fine motor skills and imaginative play. Look for sets with tools like rollers and cutters.\n",
            "*   **Sticker Books:** Reusable sticker books or large sticker scene books can keep them engaged for a while.\n",
            "*   **Simple Craft Kits:** Kits designed for toddlers, like mosaic sticker art or chunky bead threading.\n",
            "\n",
            "**2. Building & Construction:**\n",
            "*   **DUPLO Blocks:** These are perfect for this age – large enough to be safe, easy to connect, and allow for endless creative building.\n",
            "*   **Magnetic Tiles (e.g., Magna-Tiles, PicassoTiles):** These are fantastic for open-ended play, understanding shapes, and building complex structures. They can be a bit of an investment but last for years.\n",
            "*   **Large Wooden Blocks:** Classic and durable, great for building towers, houses, or anything they can imagine.\n",
            "\n",
            "**3. Imaginative & Role Play:**\n",
            "*   **Play Kitchen or Food Set:** A perennial favorite! Kids love mimicking adults. You can add a set of play food, pots and pans, or an apron.\n",
            "*   **Dress-Up Clothes:** Capes, crowns, animal costumes, or everyday \"adult\" clothes (like a doctor's coat or firefighter's hat).\n",
            "*   **Dollhouse or Figurines:** Simple dollhouses with chunky figures, or sets like a toy farm with animals, encourage storytelling.\n",
            "*   **Doctor's Kit:** Another great role-play option that can help ease fears about going to the doctor.\n",
            "*   **Puppets:** Hand puppets or finger puppets can spark creative storytelling.\n",
            "\n",
            "**4. Outdoor & Gross Motor Skills:**\n",
            "*   **Tricycle or Balance Bike:** Great for developing coordination and getting some energy out. (Don't forget a helmet!)\n",
            "*   **Scooter (3-wheeled):** A stable, three-wheeled scooter is perfect for a three-year-old learning to balance.\n",
            "*   **Sand and Water Table:** Fantastic for sensory play, especially if she has a yard or outdoor space.\n",
            "*   **Small Trampoline (with handle):** Great for indoor energy release, often with a safety bar.\n",
            "*   **Bubble Machine:** Always a winner!\n",
            "\n",
            "**5. Books & Learning:**\n",
            "*   **Picture Books:** Look for engaging stories, lift-the-flap books, or interactive sound books. Books that cover emotions, friendships, or everyday routines are great.\n",
            "*   **Simple Puzzles:** Chunky wooden puzzles or jigsaw puzzles with 12-24 pieces.\n",
            "*   **Musical Instruments:** A toy keyboard, shakers, or a drum can introduce them to music.\n",
            "\n",
            "**Tips for Choosing:**\n",
            "*   **Consider her existing interests:** Does she love animals, princesses, cars, or helping in the kitchen?\n",
            "*   **Ask her parents:** They might have a wish list or know what she already has plenty of.\n",
            "*   **Look for open-ended toys:** Toys that can be played with in many different ways will hold her interest longer than those with a single function.\n",
            "*   **Safety first:** Always check for age recommendations and ensure there are no small parts that could be choking hazards.\n",
            "\n",
            "I hope this gives you some great ideas for finding the perfect gift for your niece!\n"
          ]
        },
        {
          "output_type": "stream",
          "name": "stderr",
          "text": [
            "INFO:google_adk.google.adk.models.google_llm:Response received from the model.\n",
            "DEBUG:google_adk.google.adk.models.google_llm:\n",
            "LLM Response:\n",
            "-----------------------------------------------------------\n",
            "Text:\n",
            "That's a fantastic idea! A bike is a wonderful gift that encourages outdoor play, develops coordination, and builds confidence. For a three-year-old, there are definitely age-appropriate options that are much better than trying to teach them on a traditional two-wheeler with training wheels right away.\n",
            "\n",
            "Here are the best age-appropriate options for a three-year-old:\n",
            "\n",
            "1.  **Balance Bikes (Highly Recommended!)**\n",
            "    *   **What they are:** A balance bike is a two-wheeled bike without pedals. The child pushes off the ground with their feet to propel themselves forward, essentially learning to balance and steer before they learn to pedal.\n",
            "    *   **Why they're great for 3-year-olds:**\n",
            "        *   **Teaches Balance First:** This is the most crucial skill for riding a bike, and balance bikes teach it intuitively and quickly. Kids learn to glide with their feet up.\n",
            "        *   **Builds Confidence:** Without the added complexity of pedals, children feel more in control and less likely to fall, building their confidence.\n",
            "        *   **Smooth Transition to Pedal Bikes:** Most kids who master a balance bike transition to a pedal bike (without training wheels) very easily, often within minutes or hours, because they've already mastered the balancing act.\n",
            "        *   **Gross Motor Skill Development:** Excellent for coordination, spatial awareness, and strengthening leg muscles.\n",
            "    *   **What to look for:**\n",
            "        *   **Lightweight Frame:** Makes it easier for them to maneuver and pick up if they fall.\n",
            "        *   **Adjustable Seat and Handlebars:** Essential for ensuring a proper fit as they grow. Her feet should be able to touch the ground flat-footed or with a slight bend in the knee.\n",
            "        *   **Footrests (Optional but nice):** Some models have small footrests where they can rest their feet while gliding.\n",
            "        *   **Pneumatic (air-filled) tires:** Provide a smoother ride than foam tires, especially on varied terrain.\n",
            "    *   **Popular Brands:** Strider, Woom, Joovy, Early Rider, KaZAM.\n",
            "\n",
            "2.  **Tricycles**\n",
            "    *   **What they are:** Three-wheeled bikes, some with a push handle for parents.\n",
            "    *   **Why they're an option:**\n",
            "        *   **Stability:** Very stable due to three wheels, so no balancing is required.\n",
            "        *   **Early Pedaling Practice:** Allows them to practice pedaling motions.\n",
            "        *   **Parental Control (with push handle):** Some models allow parents to steer and push, which can be nice for longer walks.\n",
            "    *   **Considerations:**\n",
            "        *   **Doesn't Teach Balance:** While fun, tricycles don't help with the crucial skill of balancing on two wheels, so the transition to a two-wheel bike will still be challenging.\n",
            "        *   **Less Maneuverable:** Can be harder to steer for a young child compared to a balance bike.\n",
            "    *   **Best for:** Kids who might struggle with the concept of a balance bike, or if the primary goal is just gentle pedaling and outdoor fun without the immediate aim of transitioning to a two-wheeler.\n",
            "\n",
            "**What to Avoid (or postpone) for now:**\n",
            "*   **Traditional Two-Wheeled Bikes with Training Wheels:** While seemingly a good first step, training wheels actually hinder the development of balance and steering. Kids lean the wrong way and rely on the training wheels, making the eventual transition to a \"big kid bike\" much harder and often more frustrating. A balance bike will get her to a pedal bike without training wheels much faster.\n",
            "\n",
            "**Key Safety Consideration for Any Bike:**\n",
            "*   **HELMET!** This is non-negotiable. Ensure you also get a properly fitting helmet. They come in fun colors and designs, so it can be part of the gift. Make sure it meets safety standards (e.g., CPSC certified in the US).\n",
            "\n",
            "**Recommendation Summary:**\n",
            "\n",
            "For a three-year-old, a **balance bike** is almost universally recommended by child development specialists and cycling instructors as the absolute best option. It provides the fundamental skills needed for riding a two-wheeled bike much more effectively and with less frustration than training wheels or tricycles.\n",
            "\n",
            "Whichever you choose, make sure it's durable and adjustable so she can enjoy it for a good period!\n",
            "-----------------------------------------------------------\n",
            "Function calls:\n",
            "\n",
            "-----------------------------------------------------------\n",
            "Raw response:\n",
            "{\"sdk_http_response\":{\"headers\":{\"Content-Type\":\"application/json; charset=UTF-8\",\"Vary\":\"Origin, X-Origin, Referer\",\"Content-Encoding\":\"gzip\",\"Date\":\"Tue, 21 Oct 2025 18:03:53 GMT\",\"Server\":\"scaffolding on HTTPServer2\",\"X-XSS-Protection\":\"0\",\"X-Frame-Options\":\"SAMEORIGIN\",\"X-Content-Type-Options\":\"nosniff\",\"Transfer-Encoding\":\"chunked\"}},\"candidates\":[{\"content\":{\"parts\":[{\"text\":\"That's a fantastic idea! A bike is a wonderful gift that encourages outdoor play, develops coordination, and builds confidence. For a three-year-old, there are definitely age-appropriate options that are much better than trying to teach them on a traditional two-wheeler with training wheels right away.\\n\\nHere are the best age-appropriate options for a three-year-old:\\n\\n1.  **Balance Bikes (Highly Recommended!)**\\n    *   **What they are:** A balance bike is a two-wheeled bike without pedals. The child pushes off the ground with their feet to propel themselves forward, essentially learning to balance and steer before they learn to pedal.\\n    *   **Why they're great for 3-year-olds:**\\n        *   **Teaches Balance First:** This is the most crucial skill for riding a bike, and balance bikes teach it intuitively and quickly. Kids learn to glide with their feet up.\\n        *   **Builds Confidence:** Without the added complexity of pedals, children feel more in control and less likely to fall, building their confidence.\\n        *   **Smooth Transition to Pedal Bikes:** Most kids who master a balance bike transition to a pedal bike (without training wheels) very easily, often within minutes or hours, because they've already mastered the balancing act.\\n        *   **Gross Motor Skill Development:** Excellent for coordination, spatial awareness, and strengthening leg muscles.\\n    *   **What to look for:**\\n        *   **Lightweight Frame:** Makes it easier for them to maneuver and pick up if they fall.\\n        *   **Adjustable Seat and Handlebars:** Essential for ensuring a proper fit as they grow. Her feet should be able to touch the ground flat-footed or with a slight bend in the knee.\\n        *   **Footrests (Optional but nice):** Some models have small footrests where they can rest their feet while gliding.\\n        *   **Pneumatic (air-filled) tires:** Provide a smoother ride than foam tires, especially on varied terrain.\\n    *   **Popular Brands:** Strider, Woom, Joovy, Early Rider, KaZAM.\\n\\n2.  **Tricycles**\\n    *   **What they are:** Three-wheeled bikes, some with a push handle for parents.\\n    *   **Why they're an option:**\\n        *   **Stability:** Very stable due to three wheels, so no balancing is required.\\n        *   **Early Pedaling Practice:** Allows them to practice pedaling motions.\\n        *   **Parental Control (with push handle):** Some models allow parents to steer and push, which can be nice for longer walks.\\n    *   **Considerations:**\\n        *   **Doesn't Teach Balance:** While fun, tricycles don't help with the crucial skill of balancing on two wheels, so the transition to a two-wheel bike will still be challenging.\\n        *   **Less Maneuverable:** Can be harder to steer for a young child compared to a balance bike.\\n    *   **Best for:** Kids who might struggle with the concept of a balance bike, or if the primary goal is just gentle pedaling and outdoor fun without the immediate aim of transitioning to a two-wheeler.\\n\\n**What to Avoid (or postpone) for now:**\\n*   **Traditional Two-Wheeled Bikes with Training Wheels:** While seemingly a good first step, training wheels actually hinder the development of balance and steering. Kids lean the wrong way and rely on the training wheels, making the eventual transition to a \\\"big kid bike\\\" much harder and often more frustrating. A balance bike will get her to a pedal bike without training wheels much faster.\\n\\n**Key Safety Consideration for Any Bike:**\\n*   **HELMET!** This is non-negotiable. Ensure you also get a properly fitting helmet. They come in fun colors and designs, so it can be part of the gift. Make sure it meets safety standards (e.g., CPSC certified in the US).\\n\\n**Recommendation Summary:**\\n\\nFor a three-year-old, a **balance bike** is almost universally recommended by child development specialists and cycling instructors as the absolute best option. It provides the fundamental skills needed for riding a two-wheeled bike much more effectively and with less frustration than training wheels or tricycles.\\n\\nWhichever you choose, make sure it's durable and adjustable so she can enjoy it for a good period!\"}],\"role\":\"model\"},\"finish_reason\":\"STOP\",\"avg_logprobs\":-0.405765442817309}],\"create_time\":\"2025-10-21T18:03:46.611960Z\",\"model_version\":\"gemini-2.5-flash\",\"response_id\":\"Asv3aPisJdOTmecPtMz1uQk\",\"usage_metadata\":{\"candidates_token_count\":926,\"candidates_tokens_details\":[{\"modality\":\"TEXT\",\"token_count\":926}],\"prompt_token_count\":845,\"prompt_tokens_details\":[{\"modality\":\"TEXT\",\"token_count\":845}],\"thoughts_token_count\":166,\"total_token_count\":1937,\"traffic_type\":\"ON_DEMAND\"},\"automatic_function_calling_history\":[]}\n",
            "-----------------------------------------------------------\n",
            "\n"
          ]
        },
        {
          "output_type": "stream",
          "name": "stdout",
          "text": [
            "Agent Response:  That's a fantastic idea! A bike is a wonderful gift that encourages outdoor play, develops coordination, and builds confidence. For a three-year-old, there are definitely age-appropriate options that are much better than trying to teach them on a traditional two-wheeler with training wheels right away.\n",
            "\n",
            "Here are the best age-appropriate options for a three-year-old:\n",
            "\n",
            "1.  **Balance Bikes (Highly Recommended!)**\n",
            "    *   **What they are:** A balance bike is a two-wheeled bike without pedals. The child pushes off the ground with their feet to propel themselves forward, essentially learning to balance and steer before they learn to pedal.\n",
            "    *   **Why they're great for 3-year-olds:**\n",
            "        *   **Teaches Balance First:** This is the most crucial skill for riding a bike, and balance bikes teach it intuitively and quickly. Kids learn to glide with their feet up.\n",
            "        *   **Builds Confidence:** Without the added complexity of pedals, children feel more in control and less likely to fall, building their confidence.\n",
            "        *   **Smooth Transition to Pedal Bikes:** Most kids who master a balance bike transition to a pedal bike (without training wheels) very easily, often within minutes or hours, because they've already mastered the balancing act.\n",
            "        *   **Gross Motor Skill Development:** Excellent for coordination, spatial awareness, and strengthening leg muscles.\n",
            "    *   **What to look for:**\n",
            "        *   **Lightweight Frame:** Makes it easier for them to maneuver and pick up if they fall.\n",
            "        *   **Adjustable Seat and Handlebars:** Essential for ensuring a proper fit as they grow. Her feet should be able to touch the ground flat-footed or with a slight bend in the knee.\n",
            "        *   **Footrests (Optional but nice):** Some models have small footrests where they can rest their feet while gliding.\n",
            "        *   **Pneumatic (air-filled) tires:** Provide a smoother ride than foam tires, especially on varied terrain.\n",
            "    *   **Popular Brands:** Strider, Woom, Joovy, Early Rider, KaZAM.\n",
            "\n",
            "2.  **Tricycles**\n",
            "    *   **What they are:** Three-wheeled bikes, some with a push handle for parents.\n",
            "    *   **Why they're an option:**\n",
            "        *   **Stability:** Very stable due to three wheels, so no balancing is required.\n",
            "        *   **Early Pedaling Practice:** Allows them to practice pedaling motions.\n",
            "        *   **Parental Control (with push handle):** Some models allow parents to steer and push, which can be nice for longer walks.\n",
            "    *   **Considerations:**\n",
            "        *   **Doesn't Teach Balance:** While fun, tricycles don't help with the crucial skill of balancing on two wheels, so the transition to a two-wheel bike will still be challenging.\n",
            "        *   **Less Maneuverable:** Can be harder to steer for a young child compared to a balance bike.\n",
            "    *   **Best for:** Kids who might struggle with the concept of a balance bike, or if the primary goal is just gentle pedaling and outdoor fun without the immediate aim of transitioning to a two-wheeler.\n",
            "\n",
            "**What to Avoid (or postpone) for now:**\n",
            "*   **Traditional Two-Wheeled Bikes with Training Wheels:** While seemingly a good first step, training wheels actually hinder the development of balance and steering. Kids lean the wrong way and rely on the training wheels, making the eventual transition to a \"big kid bike\" much harder and often more frustrating. A balance bike will get her to a pedal bike without training wheels much faster.\n",
            "\n",
            "**Key Safety Consideration for Any Bike:**\n",
            "*   **HELMET!** This is non-negotiable. Ensure you also get a properly fitting helmet. They come in fun colors and designs, so it can be part of the gift. Make sure it meets safety standards (e.g., CPSC certified in the US).\n",
            "\n",
            "**Recommendation Summary:**\n",
            "\n",
            "For a three-year-old, a **balance bike** is almost universally recommended by child development specialists and cycling instructors as the absolute best option. It provides the fundamental skills needed for riding a two-wheeled bike much more effectively and with less frustration than training wheels or tricycles.\n",
            "\n",
            "Whichever you choose, make sure it's durable and adjustable so she can enjoy it for a good period!\n"
          ]
        }
      ],
      "source": [
        "recommendations_session = await session_service.create_session(\n",
        "    app_name=APP_NAME, user_id=USER_ID\n",
        ")\n",
        "\n",
        "call_agent(\n",
        "    \"I have a three year old niece. What recommendations do you have for birthday presents?\",\n",
        "    recommendations_session.id,\n",
        "    user_id=USER_ID,\n",
        ")\n",
        "call_agent(\n",
        "    \"I like the idea of a bike. Are there any age appropriate options?\",\n",
        "    recommendations_session.id,\n",
        "    user_id=USER_ID,\n",
        ")\n",
        "\n",
        "recommendations_session = await session_service.get_session(\n",
        "    app_name=APP_NAME, user_id=USER_ID, session_id=recommendations_session.id\n",
        ")"
      ]
    },
    {
      "cell_type": "markdown",
      "metadata": {
        "id": "0-bWy4LlTjio"
      },
      "source": [
        "### InMemoryMemoryService\n",
        "\n",
        "First, let's see what memories are extracted from the conversation using `InMemoryMemoryService`\n",
        "\n",
        "The memories include the raw dialogue of the conversation."
      ]
    },
    {
      "cell_type": "code",
      "execution_count": 108,
      "metadata": {
        "id": "D6PyuoF7_dz2"
      },
      "outputs": [],
      "source": [
        "await in_memory_service.add_session_to_memory(chit_chat_session)\n",
        "await in_memory_service.add_session_to_memory(recommendations_session)"
      ]
    },
    {
      "cell_type": "code",
      "execution_count": 109,
      "metadata": {
        "colab": {
          "base_uri": "https://localhost:8080/"
        },
        "id": "IP1_NjgjTzO0",
        "outputId": "aa4c483d-c26e-4261-8ff2-a45acdadd102"
      },
      "outputs": [
        {
          "output_type": "execute_result",
          "data": {
            "text/plain": [
              "{'memory_example_app/My User': {'062888a0-1c8b-42b8-9603-14a1f1ce9176': [Event(content=Content(\n",
              "     parts=[\n",
              "       Part(\n",
              "         text='what types of questions do you answer'\n",
              "       ),\n",
              "     ],\n",
              "     role='user'\n",
              "   ), grounding_metadata=None, partial=None, turn_complete=None, finish_reason=None, error_code=None, error_message=None, interrupted=None, custom_metadata=None, usage_metadata=None, live_session_resumption_update=None, input_transcription=None, output_transcription=None, avg_logprobs=None, logprobs_result=None, cache_metadata=None, citation_metadata=None, invocation_id='e-e3d5b959-0347-4857-a8b8-a877be360b68', author='user', actions=EventActions(skip_summarization=None, state_delta={}, artifact_delta={}, transfer_to_agent=None, escalate=None, requested_auth_configs={}, requested_tool_confirmations={}, compaction=None, end_of_agent=None, agent_state=None), long_running_tool_ids=None, branch=None, id='592196b9-c1a6-4da3-bb6f-83051133dc7c', timestamp=1761069812.202061),\n",
              "   Event(content=Content(\n",
              "     parts=[\n",
              "       Part(\n",
              "         text=\"\"\"As a large language model, I can answer a wide variety of questions across many domains. Here are some general categories of questions I can assist with:\n",
              "   \n",
              "   1.  **Factual Recall and Information Retrieval:**\n",
              "       *   \"What is the capital of France?\"\n",
              "       *   \"Who wrote 'Romeo and Juliet'?\"\n",
              "       *   \"When was the internet invented?\"\n",
              "       *   \"What are the symptoms of a cold?\"\n",
              "   \n",
              "   2.  **Explanations and Concepts:**\n",
              "       *   \"How does photosynthesis work?\"\n",
              "       *   \"Explain the theory of relativity.\"\n",
              "       *   \"What is blockchain technology?\"\n",
              "       *   \"Define artificial intelligence.\"\n",
              "   \n",
              "   3.  **Problem-Solving and Logic:**\n",
              "       *   \"How can I fix a leaky faucet?\" (general steps, not specific diagnostics)\n",
              "       *   \"What's the best way to organize my digital files?\"\n",
              "       *   \"Calculate the area of a circle with a radius of 5.\"\n",
              "   \n",
              "   4.  **Creative Writing and Brainstorming:**\n",
              "       *   \"Write a short story about a talking cat.\"\n",
              "       *   \"Generate ideas for a marketing campaign for a new coffee shop.\"\n",
              "       *   \"Suggest some names for a new tech startup.\"\n",
              "   \n",
              "   5.  **Summarization and Condensation:**\n",
              "       *   \"Summarize this article for me.\"\n",
              "       *   \"Give me the main points of the plot of 'Moby Dick'.\"\n",
              "   \n",
              "   6.  **Language and Grammar Assistance:**\n",
              "       *   \"What's the difference between 'affect' and 'effect'?\"\n",
              "       *   \"Correct the grammar in this sentence.\"\n",
              "       *   \"Translate 'hello' into Spanish.\"\n",
              "   \n",
              "   7.  **Comparisons and Analysis:**\n",
              "       *   \"Compare and contrast iOS and Android.\"\n",
              "       *   \"What are the pros and cons of working remotely?\"\n",
              "   \n",
              "   8.  **General Advice and Suggestions (non-personal/medical/financial):**\n",
              "       *   \"What are some good hobbies to pick up?\"\n",
              "       *   \"Suggest a recipe for a quick dinner.\"\n",
              "   \n",
              "   Essentially, if a question can be answered using general knowledge, logical reasoning, or by processing and generating text based on the vast amount of information I was trained on, I can likely provide a helpful response.\"\"\"\n",
              "       ),\n",
              "     ],\n",
              "     role='model'\n",
              "   ), grounding_metadata=None, partial=None, turn_complete=None, finish_reason=<FinishReason.STOP: 'STOP'>, error_code=None, error_message=None, interrupted=None, custom_metadata=None, usage_metadata=GenerateContentResponseUsageMetadata(\n",
              "     candidates_token_count=483,\n",
              "     candidates_tokens_details=[\n",
              "       ModalityTokenCount(\n",
              "         modality=<MediaModality.TEXT: 'TEXT'>,\n",
              "         token_count=483\n",
              "       ),\n",
              "     ],\n",
              "     prompt_token_count=30,\n",
              "     prompt_tokens_details=[\n",
              "       ModalityTokenCount(\n",
              "         modality=<MediaModality.TEXT: 'TEXT'>,\n",
              "         token_count=30\n",
              "       ),\n",
              "     ],\n",
              "     thoughts_token_count=164,\n",
              "     total_token_count=677,\n",
              "     traffic_type=<TrafficType.ON_DEMAND: 'ON_DEMAND'>\n",
              "   ), live_session_resumption_update=None, input_transcription=None, output_transcription=None, avg_logprobs=-0.3120924987161135, logprobs_result=None, cache_metadata=None, citation_metadata=None, invocation_id='e-e3d5b959-0347-4857-a8b8-a877be360b68', author='Generic_QA_Agent', actions=EventActions(skip_summarization=None, state_delta={}, artifact_delta={}, transfer_to_agent=None, escalate=None, requested_auth_configs={}, requested_tool_confirmations={}, compaction=None, end_of_agent=None, agent_state=None), long_running_tool_ids=None, branch=None, id='44dae3a9-0267-4ae1-8afe-db3243f10bf3', timestamp=1761069812.202406)],\n",
              "  '2b3c4cca-6429-4790-9dd7-01cb0727d42d': [Event(content=Content(\n",
              "     parts=[\n",
              "       Part(\n",
              "         text='I have a three year old niece. What recommendations do you have for birthday presents?'\n",
              "       ),\n",
              "     ],\n",
              "     role='user'\n",
              "   ), grounding_metadata=None, partial=None, turn_complete=None, finish_reason=None, error_code=None, error_message=None, interrupted=None, custom_metadata=None, usage_metadata=None, live_session_resumption_update=None, input_transcription=None, output_transcription=None, avg_logprobs=None, logprobs_result=None, cache_metadata=None, citation_metadata=None, invocation_id='e-91d2ce47-0c36-4480-8d12-c4f5a109f92c', author='user', actions=EventActions(skip_summarization=None, state_delta={}, artifact_delta={}, transfer_to_agent=None, escalate=None, requested_auth_configs={}, requested_tool_confirmations={}, compaction=None, end_of_agent=None, agent_state=None), long_running_tool_ids=None, branch=None, id='c928efdc-9a1d-4899-acc1-5a6c477649ab', timestamp=1761069816.41336),\n",
              "   Event(content=Content(\n",
              "     parts=[\n",
              "       Part(\n",
              "         text=\"\"\"That's wonderful! Three-year-olds are at such a fun age for gifts, as they're developing so many new skills and their imaginations are really blossoming.\n",
              "   \n",
              "   Here are some recommendations for your three-year-old niece, broken down by type:\n",
              "   \n",
              "   **1. Creative & Art Supplies:**\n",
              "   *   **Washable Art Supplies:** Think chunky crayons, markers, finger paints, or even an easel with paper rolls. Washable is key!\n",
              "   *   **Play-Doh Sets:** These are always a hit, promoting fine motor skills and imaginative play. Look for sets with tools like rollers and cutters.\n",
              "   *   **Sticker Books:** Reusable sticker books or large sticker scene books can keep them engaged for a while.\n",
              "   *   **Simple Craft Kits:** Kits designed for toddlers, like mosaic sticker art or chunky bead threading.\n",
              "   \n",
              "   **2. Building & Construction:**\n",
              "   *   **DUPLO Blocks:** These are perfect for this age – large enough to be safe, easy to connect, and allow for endless creative building.\n",
              "   *   **Magnetic Tiles (e.g., Magna-Tiles, PicassoTiles):** These are fantastic for open-ended play, understanding shapes, and building complex structures. They can be a bit of an investment but last for years.\n",
              "   *   **Large Wooden Blocks:** Classic and durable, great for building towers, houses, or anything they can imagine.\n",
              "   \n",
              "   **3. Imaginative & Role Play:**\n",
              "   *   **Play Kitchen or Food Set:** A perennial favorite! Kids love mimicking adults. You can add a set of play food, pots and pans, or an apron.\n",
              "   *   **Dress-Up Clothes:** Capes, crowns, animal costumes, or everyday \"adult\" clothes (like a doctor's coat or firefighter's hat).\n",
              "   *   **Dollhouse or Figurines:** Simple dollhouses with chunky figures, or sets like a toy farm with animals, encourage storytelling.\n",
              "   *   **Doctor's Kit:** Another great role-play option that can help ease fears about going to the doctor.\n",
              "   *   **Puppets:** Hand puppets or finger puppets can spark creative storytelling.\n",
              "   \n",
              "   **4. Outdoor & Gross Motor Skills:**\n",
              "   *   **Tricycle or Balance Bike:** Great for developing coordination and getting some energy out. (Don't forget a helmet!)\n",
              "   *   **Scooter (3-wheeled):** A stable, three-wheeled scooter is perfect for a three-year-old learning to balance.\n",
              "   *   **Sand and Water Table:** Fantastic for sensory play, especially if she has a yard or outdoor space.\n",
              "   *   **Small Trampoline (with handle):** Great for indoor energy release, often with a safety bar.\n",
              "   *   **Bubble Machine:** Always a winner!\n",
              "   \n",
              "   **5. Books & Learning:**\n",
              "   *   **Picture Books:** Look for engaging stories, lift-the-flap books, or interactive sound books. Books that cover emotions, friendships, or everyday routines are great.\n",
              "   *   **Simple Puzzles:** Chunky wooden puzzles or jigsaw puzzles with 12-24 pieces.\n",
              "   *   **Musical Instruments:** A toy keyboard, shakers, or a drum can introduce them to music.\n",
              "   \n",
              "   **Tips for Choosing:**\n",
              "   *   **Consider her existing interests:** Does she love animals, princesses, cars, or helping in the kitchen?\n",
              "   *   **Ask her parents:** They might have a wish list or know what she already has plenty of.\n",
              "   *   **Look for open-ended toys:** Toys that can be played with in many different ways will hold her interest longer than those with a single function.\n",
              "   *   **Safety first:** Always check for age recommendations and ensure there are no small parts that could be choking hazards.\n",
              "   \n",
              "   I hope this gives you some great ideas for finding the perfect gift for your niece!\"\"\"\n",
              "       ),\n",
              "     ],\n",
              "     role='model'\n",
              "   ), grounding_metadata=None, partial=None, turn_complete=None, finish_reason=<FinishReason.STOP: 'STOP'>, error_code=None, error_message=None, interrupted=None, custom_metadata=None, usage_metadata=GenerateContentResponseUsageMetadata(\n",
              "     candidates_token_count=790,\n",
              "     candidates_tokens_details=[\n",
              "       ModalityTokenCount(\n",
              "         modality=<MediaModality.TEXT: 'TEXT'>,\n",
              "         token_count=790\n",
              "       ),\n",
              "     ],\n",
              "     prompt_token_count=40,\n",
              "     prompt_tokens_details=[\n",
              "       ModalityTokenCount(\n",
              "         modality=<MediaModality.TEXT: 'TEXT'>,\n",
              "         token_count=40\n",
              "       ),\n",
              "     ],\n",
              "     thoughts_token_count=429,\n",
              "     total_token_count=1259,\n",
              "     traffic_type=<TrafficType.ON_DEMAND: 'ON_DEMAND'>\n",
              "   ), live_session_resumption_update=None, input_transcription=None, output_transcription=None, avg_logprobs=-0.5085461194002175, logprobs_result=None, cache_metadata=None, citation_metadata=None, invocation_id='e-91d2ce47-0c36-4480-8d12-c4f5a109f92c', author='Generic_QA_Agent', actions=EventActions(skip_summarization=None, state_delta={}, artifact_delta={}, transfer_to_agent=None, escalate=None, requested_auth_configs={}, requested_tool_confirmations={}, compaction=None, end_of_agent=None, agent_state=None), long_running_tool_ids=None, branch=None, id='181dd1a4-8d45-4951-ac74-37ca12cbe6dd', timestamp=1761069816.414168),\n",
              "   Event(content=Content(\n",
              "     parts=[\n",
              "       Part(\n",
              "         text='I like the idea of a bike. Are there any age appropriate options?'\n",
              "       ),\n",
              "     ],\n",
              "     role='user'\n",
              "   ), grounding_metadata=None, partial=None, turn_complete=None, finish_reason=None, error_code=None, error_message=None, interrupted=None, custom_metadata=None, usage_metadata=None, live_session_resumption_update=None, input_transcription=None, output_transcription=None, avg_logprobs=None, logprobs_result=None, cache_metadata=None, citation_metadata=None, invocation_id='e-80b48b69-2ee0-4ff4-88a9-edc58a371165', author='user', actions=EventActions(skip_summarization=None, state_delta={}, artifact_delta={}, transfer_to_agent=None, escalate=None, requested_auth_configs={}, requested_tool_confirmations={}, compaction=None, end_of_agent=None, agent_state=None), long_running_tool_ids=None, branch=None, id='33d59ecd-478f-49a5-a2da-97674c35df47', timestamp=1761069825.973492),\n",
              "   Event(content=Content(\n",
              "     parts=[\n",
              "       Part(\n",
              "         text=\"\"\"That's a fantastic idea! A bike is a wonderful gift that encourages outdoor play, develops coordination, and builds confidence. For a three-year-old, there are definitely age-appropriate options that are much better than trying to teach them on a traditional two-wheeler with training wheels right away.\n",
              "   \n",
              "   Here are the best age-appropriate options for a three-year-old:\n",
              "   \n",
              "   1.  **Balance Bikes (Highly Recommended!)**\n",
              "       *   **What they are:** A balance bike is a two-wheeled bike without pedals. The child pushes off the ground with their feet to propel themselves forward, essentially learning to balance and steer before they learn to pedal.\n",
              "       *   **Why they're great for 3-year-olds:**\n",
              "           *   **Teaches Balance First:** This is the most crucial skill for riding a bike, and balance bikes teach it intuitively and quickly. Kids learn to glide with their feet up.\n",
              "           *   **Builds Confidence:** Without the added complexity of pedals, children feel more in control and less likely to fall, building their confidence.\n",
              "           *   **Smooth Transition to Pedal Bikes:** Most kids who master a balance bike transition to a pedal bike (without training wheels) very easily, often within minutes or hours, because they've already mastered the balancing act.\n",
              "           *   **Gross Motor Skill Development:** Excellent for coordination, spatial awareness, and strengthening leg muscles.\n",
              "       *   **What to look for:**\n",
              "           *   **Lightweight Frame:** Makes it easier for them to maneuver and pick up if they fall.\n",
              "           *   **Adjustable Seat and Handlebars:** Essential for ensuring a proper fit as they grow. Her feet should be able to touch the ground flat-footed or with a slight bend in the knee.\n",
              "           *   **Footrests (Optional but nice):** Some models have small footrests where they can rest their feet while gliding.\n",
              "           *   **Pneumatic (air-filled) tires:** Provide a smoother ride than foam tires, especially on varied terrain.\n",
              "       *   **Popular Brands:** Strider, Woom, Joovy, Early Rider, KaZAM.\n",
              "   \n",
              "   2.  **Tricycles**\n",
              "       *   **What they are:** Three-wheeled bikes, some with a push handle for parents.\n",
              "       *   **Why they're an option:**\n",
              "           *   **Stability:** Very stable due to three wheels, so no balancing is required.\n",
              "           *   **Early Pedaling Practice:** Allows them to practice pedaling motions.\n",
              "           *   **Parental Control (with push handle):** Some models allow parents to steer and push, which can be nice for longer walks.\n",
              "       *   **Considerations:**\n",
              "           *   **Doesn't Teach Balance:** While fun, tricycles don't help with the crucial skill of balancing on two wheels, so the transition to a two-wheel bike will still be challenging.\n",
              "           *   **Less Maneuverable:** Can be harder to steer for a young child compared to a balance bike.\n",
              "       *   **Best for:** Kids who might struggle with the concept of a balance bike, or if the primary goal is just gentle pedaling and outdoor fun without the immediate aim of transitioning to a two-wheeler.\n",
              "   \n",
              "   **What to Avoid (or postpone) for now:**\n",
              "   *   **Traditional Two-Wheeled Bikes with Training Wheels:** While seemingly a good first step, training wheels actually hinder the development of balance and steering. Kids lean the wrong way and rely on the training wheels, making the eventual transition to a \"big kid bike\" much harder and often more frustrating. A balance bike will get her to a pedal bike without training wheels much faster.\n",
              "   \n",
              "   **Key Safety Consideration for Any Bike:**\n",
              "   *   **HELMET!** This is non-negotiable. Ensure you also get a properly fitting helmet. They come in fun colors and designs, so it can be part of the gift. Make sure it meets safety standards (e.g., CPSC certified in the US).\n",
              "   \n",
              "   **Recommendation Summary:**\n",
              "   \n",
              "   For a three-year-old, a **balance bike** is almost universally recommended by child development specialists and cycling instructors as the absolute best option. It provides the fundamental skills needed for riding a two-wheeled bike much more effectively and with less frustration than training wheels or tricycles.\n",
              "   \n",
              "   Whichever you choose, make sure it's durable and adjustable so she can enjoy it for a good period!\"\"\"\n",
              "       ),\n",
              "     ],\n",
              "     role='model'\n",
              "   ), grounding_metadata=None, partial=None, turn_complete=None, finish_reason=<FinishReason.STOP: 'STOP'>, error_code=None, error_message=None, interrupted=None, custom_metadata=None, usage_metadata=GenerateContentResponseUsageMetadata(\n",
              "     candidates_token_count=926,\n",
              "     candidates_tokens_details=[\n",
              "       ModalityTokenCount(\n",
              "         modality=<MediaModality.TEXT: 'TEXT'>,\n",
              "         token_count=926\n",
              "       ),\n",
              "     ],\n",
              "     prompt_token_count=845,\n",
              "     prompt_tokens_details=[\n",
              "       ModalityTokenCount(\n",
              "         modality=<MediaModality.TEXT: 'TEXT'>,\n",
              "         token_count=845\n",
              "       ),\n",
              "     ],\n",
              "     thoughts_token_count=166,\n",
              "     total_token_count=1937,\n",
              "     traffic_type=<TrafficType.ON_DEMAND: 'ON_DEMAND'>\n",
              "   ), live_session_resumption_update=None, input_transcription=None, output_transcription=None, avg_logprobs=-0.405765442817309, logprobs_result=None, cache_metadata=None, citation_metadata=None, invocation_id='e-80b48b69-2ee0-4ff4-88a9-edc58a371165', author='Generic_QA_Agent', actions=EventActions(skip_summarization=None, state_delta={}, artifact_delta={}, transfer_to_agent=None, escalate=None, requested_auth_configs={}, requested_tool_confirmations={}, compaction=None, end_of_agent=None, agent_state=None), long_running_tool_ids=None, branch=None, id='f56ab619-3945-4fc0-a62d-b4068e369413', timestamp=1761069825.974278)]}}"
            ]
          },
          "metadata": {},
          "execution_count": 109
        }
      ],
      "source": [
        "# Peek at the memories.\n",
        "in_memory_service._session_events"
      ]
    },
    {
      "cell_type": "code",
      "execution_count": 110,
      "metadata": {
        "colab": {
          "base_uri": "https://localhost:8080/"
        },
        "id": "ZY1cRqfi_4Qz",
        "outputId": "535b75f1-8102-4322-f35e-a9a62e53f006"
      },
      "outputs": [
        {
          "output_type": "execute_result",
          "data": {
            "text/plain": [
              "SearchMemoryResponse(memories=[])"
            ]
          },
          "metadata": {},
          "execution_count": 110
        }
      ],
      "source": [
        "await in_memory_service.search_memory(app_name=APP_NAME, user_id=USER_ID, query=\"test\")"
      ]
    },
    {
      "cell_type": "code",
      "execution_count": 111,
      "metadata": {
        "colab": {
          "base_uri": "https://localhost:8080/"
        },
        "id": "wV2OziabBVt5",
        "outputId": "6245b2f7-5785-4734-b46e-0c095c30f602"
      },
      "outputs": [
        {
          "output_type": "execute_result",
          "data": {
            "text/plain": [
              "SearchMemoryResponse(memories=[MemoryEntry(content=Content(\n",
              "  parts=[\n",
              "    Part(\n",
              "      text='what types of questions do you answer'\n",
              "    ),\n",
              "  ],\n",
              "  role='user'\n",
              "), author='user', timestamp='2025-10-21T18:03:32.202061'), MemoryEntry(content=Content(\n",
              "  parts=[\n",
              "    Part(\n",
              "      text=\"\"\"As a large language model, I can answer a wide variety of questions across many domains. Here are some general categories of questions I can assist with:\n",
              "\n",
              "1.  **Factual Recall and Information Retrieval:**\n",
              "    *   \"What is the capital of France?\"\n",
              "    *   \"Who wrote 'Romeo and Juliet'?\"\n",
              "    *   \"When was the internet invented?\"\n",
              "    *   \"What are the symptoms of a cold?\"\n",
              "\n",
              "2.  **Explanations and Concepts:**\n",
              "    *   \"How does photosynthesis work?\"\n",
              "    *   \"Explain the theory of relativity.\"\n",
              "    *   \"What is blockchain technology?\"\n",
              "    *   \"Define artificial intelligence.\"\n",
              "\n",
              "3.  **Problem-Solving and Logic:**\n",
              "    *   \"How can I fix a leaky faucet?\" (general steps, not specific diagnostics)\n",
              "    *   \"What's the best way to organize my digital files?\"\n",
              "    *   \"Calculate the area of a circle with a radius of 5.\"\n",
              "\n",
              "4.  **Creative Writing and Brainstorming:**\n",
              "    *   \"Write a short story about a talking cat.\"\n",
              "    *   \"Generate ideas for a marketing campaign for a new coffee shop.\"\n",
              "    *   \"Suggest some names for a new tech startup.\"\n",
              "\n",
              "5.  **Summarization and Condensation:**\n",
              "    *   \"Summarize this article for me.\"\n",
              "    *   \"Give me the main points of the plot of 'Moby Dick'.\"\n",
              "\n",
              "6.  **Language and Grammar Assistance:**\n",
              "    *   \"What's the difference between 'affect' and 'effect'?\"\n",
              "    *   \"Correct the grammar in this sentence.\"\n",
              "    *   \"Translate 'hello' into Spanish.\"\n",
              "\n",
              "7.  **Comparisons and Analysis:**\n",
              "    *   \"Compare and contrast iOS and Android.\"\n",
              "    *   \"What are the pros and cons of working remotely?\"\n",
              "\n",
              "8.  **General Advice and Suggestions (non-personal/medical/financial):**\n",
              "    *   \"What are some good hobbies to pick up?\"\n",
              "    *   \"Suggest a recipe for a quick dinner.\"\n",
              "\n",
              "Essentially, if a question can be answered using general knowledge, logical reasoning, or by processing and generating text based on the vast amount of information I was trained on, I can likely provide a helpful response.\"\"\"\n",
              "    ),\n",
              "  ],\n",
              "  role='model'\n",
              "), author='Generic_QA_Agent', timestamp='2025-10-21T18:03:32.202406'), MemoryEntry(content=Content(\n",
              "  parts=[\n",
              "    Part(\n",
              "      text='I have a three year old niece. What recommendations do you have for birthday presents?'\n",
              "    ),\n",
              "  ],\n",
              "  role='user'\n",
              "), author='user', timestamp='2025-10-21T18:03:36.413360'), MemoryEntry(content=Content(\n",
              "  parts=[\n",
              "    Part(\n",
              "      text=\"\"\"That's wonderful! Three-year-olds are at such a fun age for gifts, as they're developing so many new skills and their imaginations are really blossoming.\n",
              "\n",
              "Here are some recommendations for your three-year-old niece, broken down by type:\n",
              "\n",
              "**1. Creative & Art Supplies:**\n",
              "*   **Washable Art Supplies:** Think chunky crayons, markers, finger paints, or even an easel with paper rolls. Washable is key!\n",
              "*   **Play-Doh Sets:** These are always a hit, promoting fine motor skills and imaginative play. Look for sets with tools like rollers and cutters.\n",
              "*   **Sticker Books:** Reusable sticker books or large sticker scene books can keep them engaged for a while.\n",
              "*   **Simple Craft Kits:** Kits designed for toddlers, like mosaic sticker art or chunky bead threading.\n",
              "\n",
              "**2. Building & Construction:**\n",
              "*   **DUPLO Blocks:** These are perfect for this age – large enough to be safe, easy to connect, and allow for endless creative building.\n",
              "*   **Magnetic Tiles (e.g., Magna-Tiles, PicassoTiles):** These are fantastic for open-ended play, understanding shapes, and building complex structures. They can be a bit of an investment but last for years.\n",
              "*   **Large Wooden Blocks:** Classic and durable, great for building towers, houses, or anything they can imagine.\n",
              "\n",
              "**3. Imaginative & Role Play:**\n",
              "*   **Play Kitchen or Food Set:** A perennial favorite! Kids love mimicking adults. You can add a set of play food, pots and pans, or an apron.\n",
              "*   **Dress-Up Clothes:** Capes, crowns, animal costumes, or everyday \"adult\" clothes (like a doctor's coat or firefighter's hat).\n",
              "*   **Dollhouse or Figurines:** Simple dollhouses with chunky figures, or sets like a toy farm with animals, encourage storytelling.\n",
              "*   **Doctor's Kit:** Another great role-play option that can help ease fears about going to the doctor.\n",
              "*   **Puppets:** Hand puppets or finger puppets can spark creative storytelling.\n",
              "\n",
              "**4. Outdoor & Gross Motor Skills:**\n",
              "*   **Tricycle or Balance Bike:** Great for developing coordination and getting some energy out. (Don't forget a helmet!)\n",
              "*   **Scooter (3-wheeled):** A stable, three-wheeled scooter is perfect for a three-year-old learning to balance.\n",
              "*   **Sand and Water Table:** Fantastic for sensory play, especially if she has a yard or outdoor space.\n",
              "*   **Small Trampoline (with handle):** Great for indoor energy release, often with a safety bar.\n",
              "*   **Bubble Machine:** Always a winner!\n",
              "\n",
              "**5. Books & Learning:**\n",
              "*   **Picture Books:** Look for engaging stories, lift-the-flap books, or interactive sound books. Books that cover emotions, friendships, or everyday routines are great.\n",
              "*   **Simple Puzzles:** Chunky wooden puzzles or jigsaw puzzles with 12-24 pieces.\n",
              "*   **Musical Instruments:** A toy keyboard, shakers, or a drum can introduce them to music.\n",
              "\n",
              "**Tips for Choosing:**\n",
              "*   **Consider her existing interests:** Does she love animals, princesses, cars, or helping in the kitchen?\n",
              "*   **Ask her parents:** They might have a wish list or know what she already has plenty of.\n",
              "*   **Look for open-ended toys:** Toys that can be played with in many different ways will hold her interest longer than those with a single function.\n",
              "*   **Safety first:** Always check for age recommendations and ensure there are no small parts that could be choking hazards.\n",
              "\n",
              "I hope this gives you some great ideas for finding the perfect gift for your niece!\"\"\"\n",
              "    ),\n",
              "  ],\n",
              "  role='model'\n",
              "), author='Generic_QA_Agent', timestamp='2025-10-21T18:03:36.414168'), MemoryEntry(content=Content(\n",
              "  parts=[\n",
              "    Part(\n",
              "      text='I like the idea of a bike. Are there any age appropriate options?'\n",
              "    ),\n",
              "  ],\n",
              "  role='user'\n",
              "), author='user', timestamp='2025-10-21T18:03:45.973492'), MemoryEntry(content=Content(\n",
              "  parts=[\n",
              "    Part(\n",
              "      text=\"\"\"That's a fantastic idea! A bike is a wonderful gift that encourages outdoor play, develops coordination, and builds confidence. For a three-year-old, there are definitely age-appropriate options that are much better than trying to teach them on a traditional two-wheeler with training wheels right away.\n",
              "\n",
              "Here are the best age-appropriate options for a three-year-old:\n",
              "\n",
              "1.  **Balance Bikes (Highly Recommended!)**\n",
              "    *   **What they are:** A balance bike is a two-wheeled bike without pedals. The child pushes off the ground with their feet to propel themselves forward, essentially learning to balance and steer before they learn to pedal.\n",
              "    *   **Why they're great for 3-year-olds:**\n",
              "        *   **Teaches Balance First:** This is the most crucial skill for riding a bike, and balance bikes teach it intuitively and quickly. Kids learn to glide with their feet up.\n",
              "        *   **Builds Confidence:** Without the added complexity of pedals, children feel more in control and less likely to fall, building their confidence.\n",
              "        *   **Smooth Transition to Pedal Bikes:** Most kids who master a balance bike transition to a pedal bike (without training wheels) very easily, often within minutes or hours, because they've already mastered the balancing act.\n",
              "        *   **Gross Motor Skill Development:** Excellent for coordination, spatial awareness, and strengthening leg muscles.\n",
              "    *   **What to look for:**\n",
              "        *   **Lightweight Frame:** Makes it easier for them to maneuver and pick up if they fall.\n",
              "        *   **Adjustable Seat and Handlebars:** Essential for ensuring a proper fit as they grow. Her feet should be able to touch the ground flat-footed or with a slight bend in the knee.\n",
              "        *   **Footrests (Optional but nice):** Some models have small footrests where they can rest their feet while gliding.\n",
              "        *   **Pneumatic (air-filled) tires:** Provide a smoother ride than foam tires, especially on varied terrain.\n",
              "    *   **Popular Brands:** Strider, Woom, Joovy, Early Rider, KaZAM.\n",
              "\n",
              "2.  **Tricycles**\n",
              "    *   **What they are:** Three-wheeled bikes, some with a push handle for parents.\n",
              "    *   **Why they're an option:**\n",
              "        *   **Stability:** Very stable due to three wheels, so no balancing is required.\n",
              "        *   **Early Pedaling Practice:** Allows them to practice pedaling motions.\n",
              "        *   **Parental Control (with push handle):** Some models allow parents to steer and push, which can be nice for longer walks.\n",
              "    *   **Considerations:**\n",
              "        *   **Doesn't Teach Balance:** While fun, tricycles don't help with the crucial skill of balancing on two wheels, so the transition to a two-wheel bike will still be challenging.\n",
              "        *   **Less Maneuverable:** Can be harder to steer for a young child compared to a balance bike.\n",
              "    *   **Best for:** Kids who might struggle with the concept of a balance bike, or if the primary goal is just gentle pedaling and outdoor fun without the immediate aim of transitioning to a two-wheeler.\n",
              "\n",
              "**What to Avoid (or postpone) for now:**\n",
              "*   **Traditional Two-Wheeled Bikes with Training Wheels:** While seemingly a good first step, training wheels actually hinder the development of balance and steering. Kids lean the wrong way and rely on the training wheels, making the eventual transition to a \"big kid bike\" much harder and often more frustrating. A balance bike will get her to a pedal bike without training wheels much faster.\n",
              "\n",
              "**Key Safety Consideration for Any Bike:**\n",
              "*   **HELMET!** This is non-negotiable. Ensure you also get a properly fitting helmet. They come in fun colors and designs, so it can be part of the gift. Make sure it meets safety standards (e.g., CPSC certified in the US).\n",
              "\n",
              "**Recommendation Summary:**\n",
              "\n",
              "For a three-year-old, a **balance bike** is almost universally recommended by child development specialists and cycling instructors as the absolute best option. It provides the fundamental skills needed for riding a two-wheeled bike much more effectively and with less frustration than training wheels or tricycles.\n",
              "\n",
              "Whichever you choose, make sure it's durable and adjustable so she can enjoy it for a good period!\"\"\"\n",
              "    ),\n",
              "  ],\n",
              "  role='model'\n",
              "), author='Generic_QA_Agent', timestamp='2025-10-21T18:03:45.974278')])"
            ]
          },
          "metadata": {},
          "execution_count": 111
        }
      ],
      "source": [
        "await in_memory_service.search_memory(\n",
        "    app_name=APP_NAME,\n",
        "    user_id=USER_ID,\n",
        "    query=\"what should I get my mom for mother's day\",\n",
        ")"
      ]
    },
    {
      "cell_type": "markdown",
      "metadata": {
        "id": "j8d9R6NMUgyw"
      },
      "source": [
        "### Memory Bank via `VertexAiMemoryBankService`\n",
        "\n",
        "Now, let's use Memory Bank to generate and store memories. Unlike `InMemoryMemoryService`, only content that's meaningful interactions will be persisted. If there's no meaningful content, the `add_session_to_memory` call will be a no-op; memories are not generated.\n",
        "\n",
        "Memory generation happens in the background. It's a non-blocking operation, so `add_session_to_memory` may complete before memories are actually generated in the background. If you want memory generation to be a blocking operation, use the Agent Engine SDK:\n",
        "\n",
        "```\n",
        "client.agent_engines.memories.generate(\n",
        "    ...,\n",
        "    config={\n",
        "        # Default value is True.\n",
        "        \"wait_for_completion\": True\n",
        "    }\n",
        ")\n",
        "```\n",
        "\n",
        "There are two key operations that Memory Bank performs under-the-hood with memory generation:\n",
        "\n",
        "* **Extraction**: Extracts information about the user from their conversations with the agent. Only information that matches at least one of your instance's memory topics will be persisted.\n",
        "* **Consolidation**: Identifies if existing memories with the same scope should be deleted or updated based on the extracted information. Memory Bank checks that new memories are not duplicative or contradictory before merging them with existing memories. If existing memories don't overlap with the new information, a new memory will be created."
      ]
    },
    {
      "cell_type": "markdown",
      "metadata": {
        "id": "HzYBHoUNSZKn"
      },
      "source": [
        "#### ADK `add_session_to_memory`"
      ]
    },
    {
      "cell_type": "code",
      "execution_count": 112,
      "metadata": {
        "colab": {
          "base_uri": "https://localhost:8080/"
        },
        "id": "ytzu349cBdW6",
        "outputId": "39f0f34d-136e-4dbf-99c7-400a5255ea74"
      },
      "outputs": [
        {
          "output_type": "stream",
          "name": "stderr",
          "text": [
            "INFO:google_adk.google.adk.memory.vertex_ai_memory_bank_service:Generate memory response received.\n",
            "DEBUG:google_adk.google.adk.memory.vertex_ai_memory_bank_service:Generate memory response: name='projects/1023088879905/locations/us-central1/reasoningEngines/5339215270340722688/operations/58159578084278272' metadata={'@type': 'type.googleapis.com/google.cloud.aiplatform.v1beta1.GenerateMemoriesOperationMetadata', 'genericMetadata': {'createTime': '2025-10-21T18:03:54.113447Z', 'updateTime': '2025-10-21T18:03:54.113447Z'}} done=None error=None response=None\n",
            "INFO:google_adk.google.adk.memory.vertex_ai_memory_bank_service:Generate memory response received.\n",
            "DEBUG:google_adk.google.adk.memory.vertex_ai_memory_bank_service:Generate memory response: name='projects/1023088879905/locations/us-central1/reasoningEngines/5339215270340722688/operations/6493803445596717056' metadata={'@type': 'type.googleapis.com/google.cloud.aiplatform.v1beta1.GenerateMemoriesOperationMetadata', 'genericMetadata': {'createTime': '2025-10-21T18:03:54.839916Z', 'updateTime': '2025-10-21T18:03:54.839916Z'}} done=None error=None response=None\n"
          ]
        }
      ],
      "source": [
        "await memory_bank_service.add_session_to_memory(chit_chat_session)\n",
        "await memory_bank_service.add_session_to_memory(recommendations_session)"
      ]
    },
    {
      "cell_type": "markdown",
      "metadata": {
        "id": "E3ihzck53quZ"
      },
      "source": [
        "If you run this immediately after `add_session_to_memory`, there may be no memories printed. `add_session_to_memory` is a non-blocking function and memory generation can take a few seconds to run."
      ]
    },
    {
      "cell_type": "code",
      "execution_count": 113,
      "metadata": {
        "colab": {
          "base_uri": "https://localhost:8080/"
        },
        "id": "3emdHmGhBtMd",
        "outputId": "d632bdac-1d55-469c-eb19-5b7898838472"
      },
      "outputs": [
        {
          "output_type": "stream",
          "name": "stderr",
          "text": [
            "INFO:google_adk.google.adk.memory.vertex_ai_memory_bank_service:Search memory response received.\n"
          ]
        },
        {
          "output_type": "execute_result",
          "data": {
            "text/plain": [
              "SearchMemoryResponse(memories=[])"
            ]
          },
          "metadata": {},
          "execution_count": 113
        }
      ],
      "source": [
        "await memory_bank_service.search_memory(\n",
        "    app_name=APP_NAME,\n",
        "    user_id=USER_ID,\n",
        "    query=\"What should I get my mom for mother's day\",\n",
        ")"
      ]
    },
    {
      "cell_type": "markdown",
      "metadata": {
        "id": "DtdqszuOUyJ0"
      },
      "source": [
        "#### Agent Engine SDK `GenerateMemories`\n",
        "\n",
        "If I want to interact directly with Memory Bank, I can use the Agent Engine SDK. For example, I can use [`RetrieveMemories`](https://cloud.google.com/vertex-ai/generative-ai/docs/agent-engine/memory-bank/fetch-memories#scope-based) to retrieve my memories with or without similarity search.\n",
        "\n",
        "Memories are isolated by their `scope`, which is an arbitrary dictionary. `VertexAiMemoryBankService` uses the scope keys `app_name` and `user_id`. `app_name` is set by your Runner, and `user_id` is set when creating your `Session`."
      ]
    },
    {
      "cell_type": "code",
      "execution_count": 114,
      "metadata": {
        "colab": {
          "base_uri": "https://localhost:8080/"
        },
        "id": "xXxDASPUG3OK",
        "outputId": "a30adc12-dcad-4fab-d84f-e24ad9ac7f85"
      },
      "outputs": [
        {
          "output_type": "execute_result",
          "data": {
            "text/plain": [
              "[]"
            ]
          },
          "metadata": {},
          "execution_count": 114
        }
      ],
      "source": [
        "response = client.agent_engines.memories.retrieve(\n",
        "    name=agent_engine.api_resource.name,\n",
        "    scope={\"app_name\": APP_NAME,\n",
        "           \"user_id\": USER_ID},\n",
        ")\n",
        "list(response)"
      ]
    },
    {
      "cell_type": "markdown",
      "metadata": {
        "id": "E-KVnoBHV1G5"
      },
      "source": [
        "You can also use `Retrievememories` to retrieve memories using similarity search."
      ]
    },
    {
      "cell_type": "code",
      "execution_count": 115,
      "metadata": {
        "colab": {
          "base_uri": "https://localhost:8080/"
        },
        "id": "uwH2UgOZVs36",
        "outputId": "3233d72e-b3b0-4822-e034-8500384c5beb"
      },
      "outputs": [
        {
          "output_type": "execute_result",
          "data": {
            "text/plain": [
              "[]"
            ]
          },
          "metadata": {},
          "execution_count": 115
        }
      ],
      "source": [
        "response = client.agent_engines.memories.retrieve(\n",
        "    name=agent_engine.api_resource.name,\n",
        "    scope={\"app_name\": APP_NAME, \"user_id\": USER_ID},\n",
        "    similarity_search_params={\n",
        "        \"search_query\": \"what should I get my niece for her birthday?\"\n",
        "    },\n",
        ")\n",
        "list(response)"
      ]
    },
    {
      "cell_type": "markdown",
      "metadata": {
        "id": "QWWmfmn7XHNf"
      },
      "source": [
        "Memory Bank uses a process called \"consolidation\" to ensure that we do not upload duplicative or contradictory information for the same scope."
      ]
    },
    {
      "cell_type": "code",
      "execution_count": 116,
      "metadata": {
        "colab": {
          "base_uri": "https://localhost:8080/"
        },
        "id": "gyHYYlxIXGKQ",
        "outputId": "dcddbb5c-afad-4c26-e4f8-8262cc5340b1"
      },
      "outputs": [
        {
          "output_type": "stream",
          "name": "stdout",
          "text": [
            "***OPERATION RESPONSE***\n",
            "AgentEngineGenerateMemoriesOperation(\n",
            "  done=True,\n",
            "  metadata={\n",
            "    '@type': 'type.googleapis.com/google.cloud.aiplatform.v1beta1.GenerateMemoriesOperationMetadata',\n",
            "    'genericMetadata': {\n",
            "      'createTime': '2025-10-21T18:03:56.607877Z',\n",
            "      'updateTime': '2025-10-21T18:04:03.876750Z'\n",
            "    }\n",
            "  },\n",
            "  name='projects/1023088879905/locations/us-central1/reasoningEngines/5339215270340722688/operations/8799646454810411008',\n",
            "  response=GenerateMemoriesResponse(\n",
            "    generated_memories=[\n",
            "      GenerateMemoriesResponseGeneratedMemory(\n",
            "        action=<GenerateMemoriesResponseGeneratedMemoryAction.UPDATED: 'UPDATED'>,\n",
            "        memory=Memory(\n",
            "          name='projects/1023088879905/locations/us-central1/reasoningEngines/5339215270340722688/memories/2013297599678775296'\n",
            "        )\n",
            "      ),\n",
            "    ]\n",
            "  )\n",
            ")\n",
            "\n",
            "***GENERATED MEMORIES***\n",
            "Memory(\n",
            "  create_time=datetime.datetime(2025, 10, 21, 18, 3, 57, 33102, tzinfo=TzInfo(UTC)),\n",
            "  fact='I am considering a bike as a birthday present for my three-year-old niece, and I like the idea.',\n",
            "  name='projects/1023088879905/locations/us-central1/reasoningEngines/5339215270340722688/memories/2013297599678775296',\n",
            "  scope={\n",
            "    'app_name': 'memory_example_app',\n",
            "    'user_id': 'My User'\n",
            "  },\n",
            "  update_time=datetime.datetime(2025, 10, 21, 18, 4, 3, 788677, tzinfo=TzInfo(UTC))\n",
            ")\n"
          ]
        }
      ],
      "source": [
        "import pprint\n",
        "\n",
        "operation = client.agent_engines.memories.generate(\n",
        "    name=agent_engine.api_resource.name,\n",
        "    scope={\"app_name\": APP_NAME, \"user_id\": USER_ID},\n",
        "    direct_contents_source={\n",
        "        \"events\": [\n",
        "            {\n",
        "                \"content\": {\n",
        "                    \"role\": \"user\",\n",
        "                    \"parts\": [\n",
        "                        {\n",
        "                            \"text\": \"I like the idea of getting my niece a bike for her third birthday\"\n",
        "                        }\n",
        "                    ],\n",
        "                }\n",
        "            }\n",
        "        ]\n",
        "    },\n",
        ")\n",
        "print(\"***OPERATION RESPONSE***\")\n",
        "pprint.pprint(operation)\n",
        "\n",
        "print(\"\\n***GENERATED MEMORIES***\")\n",
        "for generated_memory in operation.response.generated_memories:\n",
        "    pprint.pprint(client.agent_engines.memories.get(name=generated_memory.memory.name))"
      ]
    },
    {
      "cell_type": "markdown",
      "metadata": {
        "id": "FUAJRM8pYiNj"
      },
      "source": [
        "What if your agent extracted memories that you want to combine with your existing memories? You can also use `GenerateMemories` to consolidate pre-extracted facts for the same scope [documenation](https://cloud.google.com/vertex-ai/generative-ai/docs/agent-engine/memory-bank/generate-memories#consolidate-pre-extracted-memories).\n",
        "\n",
        "Memory Bank already contains memories on this topic. So, the relevant existing memories will be updated rather than creating a new, duplicative memory."
      ]
    },
    {
      "cell_type": "code",
      "execution_count": 117,
      "metadata": {
        "colab": {
          "base_uri": "https://localhost:8080/"
        },
        "id": "hVaFGo7RY0zE",
        "outputId": "8cfd6f20-f266-4214-de14-faff2c74a2a7"
      },
      "outputs": [
        {
          "output_type": "stream",
          "name": "stdout",
          "text": [
            "***OPERATION RESPONSE***\n",
            "AgentEngineGenerateMemoriesOperation(\n",
            "  done=True,\n",
            "  metadata={\n",
            "    '@type': 'type.googleapis.com/google.cloud.aiplatform.v1beta1.GenerateMemoriesOperationMetadata',\n",
            "    'genericMetadata': {\n",
            "      'createTime': '2025-10-21T18:04:04.493716Z',\n",
            "      'updateTime': '2025-10-21T18:04:09.441114Z'\n",
            "    }\n",
            "  },\n",
            "  name='projects/1023088879905/locations/us-central1/reasoningEngines/5339215270340722688/operations/7934955326355275776',\n",
            "  response=GenerateMemoriesResponse(\n",
            "    generated_memories=[\n",
            "      GenerateMemoriesResponseGeneratedMemory(\n",
            "        action=<GenerateMemoriesResponseGeneratedMemoryAction.UPDATED: 'UPDATED'>,\n",
            "        memory=Memory(\n",
            "          name='projects/1023088879905/locations/us-central1/reasoningEngines/5339215270340722688/memories/2013297599678775296'\n",
            "        )\n",
            "      ),\n",
            "    ]\n",
            "  )\n",
            ")\n",
            "\n",
            "***GENERATED MEMORIES***\n",
            "Memory(\n",
            "  create_time=datetime.datetime(2025, 10, 21, 18, 3, 57, 33102, tzinfo=TzInfo(UTC)),\n",
            "  fact='I got my three-year-old niece a red bike as a birthday present.',\n",
            "  name='projects/1023088879905/locations/us-central1/reasoningEngines/5339215270340722688/memories/2013297599678775296',\n",
            "  scope={\n",
            "    'app_name': 'memory_example_app',\n",
            "    'user_id': 'My User'\n",
            "  },\n",
            "  update_time=datetime.datetime(2025, 10, 21, 18, 4, 9, 358398, tzinfo=TzInfo(UTC))\n",
            ")\n"
          ]
        }
      ],
      "source": [
        "operation = client.agent_engines.memories.generate(\n",
        "    name=agent_engine.api_resource.name,\n",
        "    scope={\"app_name\": APP_NAME, \"user_id\": USER_ID},\n",
        "    direct_memories_source={\"direct_memories\": [{\"fact\": \"I got my niece a red bike\"}]},\n",
        ")\n",
        "\n",
        "print(\"***OPERATION RESPONSE***\")\n",
        "pprint.pprint(operation)\n",
        "\n",
        "print(\"\\n***GENERATED MEMORIES***\")\n",
        "for generated_memory in operation.response.generated_memories:\n",
        "    if generated_memory.action != \"DELETED\":\n",
        "        pprint.pprint(\n",
        "            client.agent_engines.memories.get(name=generated_memory.memory.name)\n",
        "        )"
      ]
    },
    {
      "cell_type": "markdown",
      "metadata": {
        "id": "Ql9iDjUO5Mxb"
      },
      "source": [
        "#### Automate with Callbacks\n",
        "\n",
        "To automate the triggering of memory generation, you can implement a callback to generate memories after every turn. See the [`Remember this: Agent state and memory with ADK` blog post](https://cloud.google.com/blog/topics/developers-practitioners/remember-this-agent-state-and-memory-with-adk) for more information."
      ]
    },
    {
      "cell_type": "code",
      "execution_count": 118,
      "metadata": {
        "id": "sq4QSggUAuLu"
      },
      "outputs": [],
      "source": [
        "from google import adk\n",
        "\n",
        "\n",
        "async def auto_save_session_to_memory_callback(callback_context):\n",
        "    # Use the invocation context to access the conversation history that should\n",
        "    # be used as the data source for memory generation.\n",
        "    await memory_bank_service.add_session_to_memory(\n",
        "        callback_context._invocation_context.session\n",
        "    )\n",
        "    print(\"\\n****Triggered memory generation****\\n\")\n",
        "\n",
        "\n",
        "agent = LlmAgent(\n",
        "    model=MODEL,\n",
        "    name=\"Generic_QA_Agent\",\n",
        "    instruction=\"Answer the user's questions\",\n",
        "    tools=[adk.tools.preload_memory_tool.PreloadMemoryTool()],\n",
        "    after_agent_callback=auto_save_session_to_memory_callback,\n",
        ")\n",
        "\n",
        "runner = Runner(\n",
        "    agent=agent,\n",
        "    app_name=APP_NAME,\n",
        "    session_service=session_service,\n",
        "    memory_service=memory_bank_service,\n",
        ")"
      ]
    },
    {
      "cell_type": "code",
      "execution_count": 119,
      "metadata": {
        "colab": {
          "base_uri": "https://localhost:8080/"
        },
        "id": "o-oU37SyA5J7",
        "outputId": "c927a1b6-a907-439d-bf7c-aab99de9e359"
      },
      "outputs": [
        {
          "output_type": "stream",
          "name": "stderr",
          "text": [
            "INFO:google_adk.google.adk.memory.vertex_ai_memory_bank_service:Search memory response received.\n",
            "DEBUG:google_adk.google.adk.memory.vertex_ai_memory_bank_service:Retrieved memory: distance=0.898612030326246 memory=Memory(\n",
            "  create_time=datetime.datetime(2025, 10, 21, 18, 3, 57, 33102, tzinfo=TzInfo(UTC)),\n",
            "  fact='I got my three-year-old niece a red bike as a birthday present.',\n",
            "  name='projects/1023088879905/locations/us-central1/reasoningEngines/5339215270340722688/memories/2013297599678775296',\n",
            "  scope={\n",
            "    'app_name': 'memory_example_app',\n",
            "    'user_id': 'My User'\n",
            "  },\n",
            "  update_time=datetime.datetime(2025, 10, 21, 18, 4, 9, 358398, tzinfo=TzInfo(UTC))\n",
            ")\n",
            "INFO:google_adk.google.adk.models.google_llm:Sending out request, model: gemini-2.5-flash, backend: GoogleLLMVariant.VERTEX_AI, stream: False\n",
            "DEBUG:google_adk.google.adk.models.google_llm:\n",
            "LLM Request:\n",
            "-----------------------------------------------------------\n",
            "System Instruction:\n",
            "Answer the user's questions\n",
            "\n",
            "You are an agent. Your internal name is \"Generic_QA_Agent\".\n",
            "\n",
            "The following content is from your previous conversations with the user.\n",
            "They may be useful for answering the user's current query.\n",
            "<PAST_CONVERSATIONS>\n",
            "Time: 2025-10-21T18:04:09.358398+00:00\n",
            "user: I got my three-year-old niece a red bike as a birthday present.\n",
            "</PAST_CONVERSATIONS>\n",
            "\n",
            "-----------------------------------------------------------\n",
            "Contents:\n",
            "{\"parts\":[{\"text\":\"What christmas present recommendations do you have for my niece?\"}],\"role\":\"user\"}\n",
            "-----------------------------------------------------------\n",
            "Functions:\n",
            "\n",
            "-----------------------------------------------------------\n",
            "\n",
            "INFO:google_adk.google.adk.models.google_llm:Response received from the model.\n",
            "DEBUG:google_adk.google.adk.models.google_llm:\n",
            "LLM Response:\n",
            "-----------------------------------------------------------\n",
            "Text:\n",
            "That's wonderful! Since your niece just turned three and received a red bike for her birthday, here are some Christmas present recommendations that would complement her current interests and developmental stage:\n",
            "\n",
            "1.  **Imaginative Play Sets:**\n",
            "    *   **Play Kitchen or Food Set:** Three-year-olds love to mimic adults. A small play kitchen with toy food, pots, and pans encourages creativity and role-playing.\n",
            "    *   **Dollhouse or Animal Figures:** Simple dollhouses or sets of animal figures (like farm animals or forest creatures) can spark endless storytelling.\n",
            "    *   **Dress-Up Clothes:** A box of fun costumes (e.g., princess, superhero, doctor, animal) can fuel hours of imaginative adventures.\n",
            "\n",
            "2.  **Building and Construction Toys:**\n",
            "    *   **LEGO Duplo Set:** These larger bricks are perfect for little hands to build and create without frustration. Many sets come with figures, animals, or vehicles.\n",
            "    *   **Magnetic Tiles (e.g., Magna-Tiles, Connetix):** These are fantastic for open-ended construction, spatial reasoning, and creative design.\n",
            "\n",
            "3.  **Arts and Crafts Supplies:**\n",
            "    *   **Washable Markers, Crayons, and Large Paper:** Stock up on basic art supplies. Washable is key!\n",
            "    *   **Play-Doh Set:** A fun set with cutters and tools can provide sensory play and creativity.\n",
            "    *   **Sticker Books:** Reusable sticker books or themed sticker sets are always a hit.\n",
            "\n",
            "4.  **Books:**\n",
            "    *   **Interactive Picture Books:** Books with lift-the-flaps, textures, or simple sound buttons.\n",
            "    *   **Story Books:** Beautifully illustrated picture books that encourage a love for reading.\n",
            "\n",
            "5.  **Puzzles and Games:**\n",
            "    *   **Chunky Wooden Puzzles:** Simple puzzles with large pieces that are easy for small hands to manipulate.\n",
            "    *   **Simple Matching Games:** Memory games with large cards or picture matching can be fun.\n",
            "\n",
            "6.  **Outdoor Play (Complementing the Bike):**\n",
            "    *   **Helmet and Pads:** If she didn't get these with her bike, a fun, colorful helmet and knee/elbow pads are excellent safety gifts.\n",
            "    *   **Scooter:** A three-wheeled scooter is a good step up from a trike and can be a lot of fun for developing balance.\n",
            "\n",
            "When choosing, think about her personality – is she very active, or does she prefer quiet play? Does she love animals, or vehicles, or imaginary characters?\n",
            "-----------------------------------------------------------\n",
            "Function calls:\n",
            "\n",
            "-----------------------------------------------------------\n",
            "Raw response:\n",
            "{\"sdk_http_response\":{\"headers\":{\"Content-Type\":\"application/json; charset=UTF-8\",\"Vary\":\"Origin, X-Origin, Referer\",\"Content-Encoding\":\"gzip\",\"Date\":\"Tue, 21 Oct 2025 18:04:17 GMT\",\"Server\":\"scaffolding on HTTPServer2\",\"X-XSS-Protection\":\"0\",\"X-Frame-Options\":\"SAMEORIGIN\",\"X-Content-Type-Options\":\"nosniff\",\"Transfer-Encoding\":\"chunked\"}},\"candidates\":[{\"content\":{\"parts\":[{\"text\":\"That's wonderful! Since your niece just turned three and received a red bike for her birthday, here are some Christmas present recommendations that would complement her current interests and developmental stage:\\n\\n1.  **Imaginative Play Sets:**\\n    *   **Play Kitchen or Food Set:** Three-year-olds love to mimic adults. A small play kitchen with toy food, pots, and pans encourages creativity and role-playing.\\n    *   **Dollhouse or Animal Figures:** Simple dollhouses or sets of animal figures (like farm animals or forest creatures) can spark endless storytelling.\\n    *   **Dress-Up Clothes:** A box of fun costumes (e.g., princess, superhero, doctor, animal) can fuel hours of imaginative adventures.\\n\\n2.  **Building and Construction Toys:**\\n    *   **LEGO Duplo Set:** These larger bricks are perfect for little hands to build and create without frustration. Many sets come with figures, animals, or vehicles.\\n    *   **Magnetic Tiles (e.g., Magna-Tiles, Connetix):** These are fantastic for open-ended construction, spatial reasoning, and creative design.\\n\\n3.  **Arts and Crafts Supplies:**\\n    *   **Washable Markers, Crayons, and Large Paper:** Stock up on basic art supplies. Washable is key!\\n    *   **Play-Doh Set:** A fun set with cutters and tools can provide sensory play and creativity.\\n    *   **Sticker Books:** Reusable sticker books or themed sticker sets are always a hit.\\n\\n4.  **Books:**\\n    *   **Interactive Picture Books:** Books with lift-the-flaps, textures, or simple sound buttons.\\n    *   **Story Books:** Beautifully illustrated picture books that encourage a love for reading.\\n\\n5.  **Puzzles and Games:**\\n    *   **Chunky Wooden Puzzles:** Simple puzzles with large pieces that are easy for small hands to manipulate.\\n    *   **Simple Matching Games:** Memory games with large cards or picture matching can be fun.\\n\\n6.  **Outdoor Play (Complementing the Bike):**\\n    *   **Helmet and Pads:** If she didn't get these with her bike, a fun, colorful helmet and knee/elbow pads are excellent safety gifts.\\n    *   **Scooter:** A three-wheeled scooter is a good step up from a trike and can be a lot of fun for developing balance.\\n\\nWhen choosing, think about her personality – is she very active, or does she prefer quiet play? Does she love animals, or vehicles, or imaginary characters?\"}],\"role\":\"model\"},\"finish_reason\":\"STOP\",\"avg_logprobs\":-0.654845793597969}],\"create_time\":\"2025-10-21T18:04:11.143332Z\",\"model_version\":\"gemini-2.5-flash\",\"response_id\":\"G8v3aOTfCIT_ld8PitemoAg\",\"usage_metadata\":{\"candidates_token_count\":537,\"candidates_tokens_details\":[{\"modality\":\"TEXT\",\"token_count\":537}],\"prompt_token_count\":134,\"prompt_tokens_details\":[{\"modality\":\"TEXT\",\"token_count\":134}],\"thoughts_token_count\":428,\"total_token_count\":1099,\"traffic_type\":\"ON_DEMAND\"},\"automatic_function_calling_history\":[]}\n",
            "-----------------------------------------------------------\n",
            "\n"
          ]
        },
        {
          "output_type": "stream",
          "name": "stdout",
          "text": [
            "Agent Response:  That's wonderful! Since your niece just turned three and received a red bike for her birthday, here are some Christmas present recommendations that would complement her current interests and developmental stage:\n",
            "\n",
            "1.  **Imaginative Play Sets:**\n",
            "    *   **Play Kitchen or Food Set:** Three-year-olds love to mimic adults. A small play kitchen with toy food, pots, and pans encourages creativity and role-playing.\n",
            "    *   **Dollhouse or Animal Figures:** Simple dollhouses or sets of animal figures (like farm animals or forest creatures) can spark endless storytelling.\n",
            "    *   **Dress-Up Clothes:** A box of fun costumes (e.g., princess, superhero, doctor, animal) can fuel hours of imaginative adventures.\n",
            "\n",
            "2.  **Building and Construction Toys:**\n",
            "    *   **LEGO Duplo Set:** These larger bricks are perfect for little hands to build and create without frustration. Many sets come with figures, animals, or vehicles.\n",
            "    *   **Magnetic Tiles (e.g., Magna-Tiles, Connetix):** These are fantastic for open-ended construction, spatial reasoning, and creative design.\n",
            "\n",
            "3.  **Arts and Crafts Supplies:**\n",
            "    *   **Washable Markers, Crayons, and Large Paper:** Stock up on basic art supplies. Washable is key!\n",
            "    *   **Play-Doh Set:** A fun set with cutters and tools can provide sensory play and creativity.\n",
            "    *   **Sticker Books:** Reusable sticker books or themed sticker sets are always a hit.\n",
            "\n",
            "4.  **Books:**\n",
            "    *   **Interactive Picture Books:** Books with lift-the-flaps, textures, or simple sound buttons.\n",
            "    *   **Story Books:** Beautifully illustrated picture books that encourage a love for reading.\n",
            "\n",
            "5.  **Puzzles and Games:**\n",
            "    *   **Chunky Wooden Puzzles:** Simple puzzles with large pieces that are easy for small hands to manipulate.\n",
            "    *   **Simple Matching Games:** Memory games with large cards or picture matching can be fun.\n",
            "\n",
            "6.  **Outdoor Play (Complementing the Bike):**\n",
            "    *   **Helmet and Pads:** If she didn't get these with her bike, a fun, colorful helmet and knee/elbow pads are excellent safety gifts.\n",
            "    *   **Scooter:** A three-wheeled scooter is a good step up from a trike and can be a lot of fun for developing balance.\n",
            "\n",
            "When choosing, think about her personality – is she very active, or does she prefer quiet play? Does she love animals, or vehicles, or imaginary characters?\n"
          ]
        },
        {
          "output_type": "stream",
          "name": "stderr",
          "text": [
            "INFO:google_adk.google.adk.memory.vertex_ai_memory_bank_service:Generate memory response received.\n",
            "DEBUG:google_adk.google.adk.memory.vertex_ai_memory_bank_service:Generate memory response: name='projects/1023088879905/locations/us-central1/reasoningEngines/5339215270340722688/operations/6759515823611576320' metadata={'@type': 'type.googleapis.com/google.cloud.aiplatform.v1beta1.GenerateMemoriesOperationMetadata', 'genericMetadata': {'createTime': '2025-10-21T18:04:18.607693Z', 'updateTime': '2025-10-21T18:04:18.607693Z'}} done=None error=None response=None\n"
          ]
        },
        {
          "output_type": "stream",
          "name": "stdout",
          "text": [
            "\n",
            "****Triggered memory generation****\n",
            "\n"
          ]
        },
        {
          "output_type": "stream",
          "name": "stderr",
          "text": [
            "WARNING:root:Failed to preload memory for query: I think I'll get her a doll. What types are good for her age?\n",
            "INFO:google_adk.google.adk.models.google_llm:Sending out request, model: gemini-2.5-flash, backend: GoogleLLMVariant.VERTEX_AI, stream: False\n",
            "DEBUG:google_adk.google.adk.models.google_llm:\n",
            "LLM Request:\n",
            "-----------------------------------------------------------\n",
            "System Instruction:\n",
            "Answer the user's questions\n",
            "\n",
            "You are an agent. Your internal name is \"Generic_QA_Agent\".\n",
            "-----------------------------------------------------------\n",
            "Contents:\n",
            "{\"parts\":[{\"text\":\"What christmas present recommendations do you have for my niece?\"}],\"role\":\"user\"}\n",
            "{\"parts\":[{\"text\":\"That's wonderful! Since your niece just turned three and received a red bike for her birthday, here are some Christmas present recommendations that would complement her current interests and developmental stage:\\n\\n1.  **Imaginative Play Sets:**\\n    *   **Play Kitchen or Food Set:** Three-year-olds love to mimic adults. A small play kitchen with toy food, pots, and pans encourages creativity and role-playing.\\n    *   **Dollhouse or Animal Figures:** Simple dollhouses or sets of animal figures (like farm animals or forest creatures) can spark endless storytelling.\\n    *   **Dress-Up Clothes:** A box of fun costumes (e.g., princess, superhero, doctor, animal) can fuel hours of imaginative adventures.\\n\\n2.  **Building and Construction Toys:**\\n    *   **LEGO Duplo Set:** These larger bricks are perfect for little hands to build and create without frustration. Many sets come with figures, animals, or vehicles.\\n    *   **Magnetic Tiles (e.g., Magna-Tiles, Connetix):** These are fantastic for open-ended construction, spatial reasoning, and creative design.\\n\\n3.  **Arts and Crafts Supplies:**\\n    *   **Washable Markers, Crayons, and Large Paper:** Stock up on basic art supplies. Washable is key!\\n    *   **Play-Doh Set:** A fun set with cutters and tools can provide sensory play and creativity.\\n    *   **Sticker Books:** Reusable sticker books or themed sticker sets are always a hit.\\n\\n4.  **Books:**\\n    *   **Interactive Picture Books:** Books with lift-the-flaps, textures, or simple sound buttons.\\n    *   **Story Books:** Beautifully illustrated picture books that encourage a love for reading.\\n\\n5.  **Puzzles and Games:**\\n    *   **Chunky Wooden Puzzles:** Simple puzzles with large pieces that are easy for small hands to manipulate.\\n    *   **Simple Matching Games:** Memory games with large cards or picture matching can be fun.\\n\\n6.  **Outdoor Play (Complementing the Bike):**\\n    *   **Helmet and Pads:** If she didn't get these with her bike, a fun, colorful helmet and knee/elbow pads are excellent safety gifts.\\n    *   **Scooter:** A three-wheeled scooter is a good step up from a trike and can be a lot of fun for developing balance.\\n\\nWhen choosing, think about her personality – is she very active, or does she prefer quiet play? Does she love animals, or vehicles, or imaginary characters?\"}],\"role\":\"model\"}\n",
            "{\"parts\":[{\"text\":\"I think I'll get her a doll. What types are good for her age?\"}],\"role\":\"user\"}\n",
            "-----------------------------------------------------------\n",
            "Functions:\n",
            "\n",
            "-----------------------------------------------------------\n",
            "\n",
            "INFO:google_adk.google.adk.models.google_llm:Response received from the model.\n",
            "DEBUG:google_adk.google.adk.models.google_llm:\n",
            "LLM Response:\n",
            "-----------------------------------------------------------\n",
            "Text:\n",
            "That's a lovely idea! Dolls are fantastic for encouraging nurturing play, empathy, storytelling, and developing fine motor skills through dressing and undressing. For a three-year-old, here are some great types of dolls to consider:\n",
            "\n",
            "1.  **Baby Dolls (Classic & Wonderful):**\n",
            "    *   **Why they're great:** Three-year-olds love to mimic what they see, and caring for a baby doll is a natural extension of that. They can feed, burp, change, and comfort their \"baby,\" which fosters empathy and imaginative play.\n",
            "    *   **What to look for:**\n",
            "        *   **Soft body:** Many baby dolls have a soft, huggable body, making them perfect for cuddling.\n",
            "        *   **Washable:** Kids this age can be messy, so a doll that can be wiped clean or even machine-washed (check tags!) is a huge plus.\n",
            "        *   **Simple clothing:** Look for outfits that are easy for little hands to put on and take off (e.g., Velcro closures, elastic waistbands, larger buttons/snaps).\n",
            "        *   **No small parts:** Ensure there are no tiny accessories that could be a choking hazard.\n",
            "        *   **Size:** Not too big or heavy for her to carry around comfortably.\n",
            "\n",
            "    *   **Examples:**\n",
            "        *   **Corolle Mon Premier Bébé Calin:** These dolls are often recommended for their quality, soft vanilla scent, and thoughtful design for young children. They come in various skin tones and have soft bodies.\n",
            "        *   **Melissa & Doug Mine to Love Baby Dolls:** Good quality, soft bodies, and often come with simple clothes and accessories.\n",
            "        *   **Fisher-Price Little Mommy Baby Dolls:** Often designed with younger children in mind, with durable construction.\n",
            "\n",
            "2.  **Soft Fabric Dolls (Rag Dolls):**\n",
            "    *   **Why they're great:** These are incredibly huggable, durable, and pose no choking hazards. They're often lightweight and perfect for snuggling at bedtime or taking on adventures. They encourage open-ended imaginative play.\n",
            "    *   **What to look for:**\n",
            "        *   **Machine washable:** Many fabric dolls can be tossed in the washing machine, which is very convenient.\n",
            "        *   **Embroidery for features:** Instead of plastic eyes or buttons, embroidered features are safest.\n",
            "        *   **Soft, durable fabrics:** Cotton or fleece are common.\n",
            "    *   **Examples:**\n",
            "        *   **Manhattan Toy Baby Stella:** These are very popular, soft, and come with magnetic pacifiers and removable clothes.\n",
            "        *   **HABA Soft Dolls:** High-quality, often with unique designs and soft textures.\n",
            "        *   **Classic Rag Dolls:** Many independent brands and artisanal shops offer lovely, safe fabric dolls.\n",
            "\n",
            "3.  **Toddler/My First Fashion Dolls:**\n",
            "    *   **Why they're great:** If she's starting to show interest in \"bigger kid\" dolls but isn't ready for complex Barbie-style dolls, these are a good bridge. They often have larger, sturdier bodies, easier-to-manage hair, and simpler outfits.\n",
            "    *   **What to look for:**\n",
            "        *   **Larger size:** Easier to hold and manipulate than standard fashion dolls.\n",
            "        *   **Simplified features:** Less intricate clothing and accessories.\n",
            "        *   **Durable hair:** Often rooted well to withstand brushing and styling.\n",
            "    *   **Examples:**\n",
            "        *   **My First Barbie:** Designed specifically for younger children with softer bodies, easier-to-dress clothes, and simple accessories.\n",
            "        *   **Disney Toddler Princess Dolls:** Often larger than standard fashion dolls, with rooted hair and simple fabric outfits.\n",
            "\n",
            "When you're shopping, consider:\n",
            "*   **Her interests:** Does she love animals, or princesses, or just being a \"mommy\"?\n",
            "*   **Durability:** Three-year-olds are still figuring things out, so something that can withstand a few drops or enthusiastic play sessions is ideal.\n",
            "*   **Simplicity:** At this age, less is often more. A doll that allows her to project her own stories and ideas onto it, rather than one that does a lot of talking or has many complex features, is usually best for imaginative development.\n",
            "\n",
            "Any of these options would make a wonderful gift for a three-year-old!\n",
            "-----------------------------------------------------------\n",
            "Function calls:\n",
            "\n",
            "-----------------------------------------------------------\n",
            "Raw response:\n",
            "{\"sdk_http_response\":{\"headers\":{\"Content-Type\":\"application/json; charset=UTF-8\",\"Vary\":\"Origin, X-Origin, Referer\",\"Content-Encoding\":\"gzip\",\"Date\":\"Tue, 21 Oct 2025 18:04:37 GMT\",\"Server\":\"scaffolding on HTTPServer2\",\"X-XSS-Protection\":\"0\",\"X-Frame-Options\":\"SAMEORIGIN\",\"X-Content-Type-Options\":\"nosniff\",\"Transfer-Encoding\":\"chunked\"}},\"candidates\":[{\"content\":{\"parts\":[{\"text\":\"That's a lovely idea! Dolls are fantastic for encouraging nurturing play, empathy, storytelling, and developing fine motor skills through dressing and undressing. For a three-year-old, here are some great types of dolls to consider:\\n\\n1.  **Baby Dolls (Classic & Wonderful):**\\n    *   **Why they're great:** Three-year-olds love to mimic what they see, and caring for a baby doll is a natural extension of that. They can feed, burp, change, and comfort their \\\"baby,\\\" which fosters empathy and imaginative play.\\n    *   **What to look for:**\\n        *   **Soft body:** Many baby dolls have a soft, huggable body, making them perfect for cuddling.\\n        *   **Washable:** Kids this age can be messy, so a doll that can be wiped clean or even machine-washed (check tags!) is a huge plus.\\n        *   **Simple clothing:** Look for outfits that are easy for little hands to put on and take off (e.g., Velcro closures, elastic waistbands, larger buttons/snaps).\\n        *   **No small parts:** Ensure there are no tiny accessories that could be a choking hazard.\\n        *   **Size:** Not too big or heavy for her to carry around comfortably.\\n\\n    *   **Examples:**\\n        *   **Corolle Mon Premier Bébé Calin:** These dolls are often recommended for their quality, soft vanilla scent, and thoughtful design for young children. They come in various skin tones and have soft bodies.\\n        *   **Melissa & Doug Mine to Love Baby Dolls:** Good quality, soft bodies, and often come with simple clothes and accessories.\\n        *   **Fisher-Price Little Mommy Baby Dolls:** Often designed with younger children in mind, with durable construction.\\n\\n2.  **Soft Fabric Dolls (Rag Dolls):**\\n    *   **Why they're great:** These are incredibly huggable, durable, and pose no choking hazards. They're often lightweight and perfect for snuggling at bedtime or taking on adventures. They encourage open-ended imaginative play.\\n    *   **What to look for:**\\n        *   **Machine washable:** Many fabric dolls can be tossed in the washing machine, which is very convenient.\\n        *   **Embroidery for features:** Instead of plastic eyes or buttons, embroidered features are safest.\\n        *   **Soft, durable fabrics:** Cotton or fleece are common.\\n    *   **Examples:**\\n        *   **Manhattan Toy Baby Stella:** These are very popular, soft, and come with magnetic pacifiers and removable clothes.\\n        *   **HABA Soft Dolls:** High-quality, often with unique designs and soft textures.\\n        *   **Classic Rag Dolls:** Many independent brands and artisanal shops offer lovely, safe fabric dolls.\\n\\n3.  **Toddler/My First Fashion Dolls:**\\n    *   **Why they're great:** If she's starting to show interest in \\\"bigger kid\\\" dolls but isn't ready for complex Barbie-style dolls, these are a good bridge. They often have larger, sturdier bodies, easier-to-manage hair, and simpler outfits.\\n    *   **What to look for:**\\n        *   **Larger size:** Easier to hold and manipulate than standard fashion dolls.\\n        *   **Simplified features:** Less intricate clothing and accessories.\\n        *   **Durable hair:** Often rooted well to withstand brushing and styling.\\n    *   **Examples:**\\n        *   **My First Barbie:** Designed specifically for younger children with softer bodies, easier-to-dress clothes, and simple accessories.\\n        *   **Disney Toddler Princess Dolls:** Often larger than standard fashion dolls, with rooted hair and simple fabric outfits.\\n\\nWhen you're shopping, consider:\\n*   **Her interests:** Does she love animals, or princesses, or just being a \\\"mommy\\\"?\\n*   **Durability:** Three-year-olds are still figuring things out, so something that can withstand a few drops or enthusiastic play sessions is ideal.\\n*   **Simplicity:** At this age, less is often more. A doll that allows her to project her own stories and ideas onto it, rather than one that does a lot of talking or has many complex features, is usually best for imaginative development.\\n\\nAny of these options would make a wonderful gift for a three-year-old!\"}],\"role\":\"model\"},\"finish_reason\":\"STOP\",\"avg_logprobs\":-0.6167679991484205}],\"create_time\":\"2025-10-21T18:04:28.257802Z\",\"model_version\":\"gemini-2.5-flash\",\"response_id\":\"LMv3aIreD_WgmecP7--v0Ao\",\"usage_metadata\":{\"candidates_token_count\":922,\"candidates_tokens_details\":[{\"modality\":\"TEXT\",\"token_count\":922}],\"prompt_token_count\":589,\"prompt_tokens_details\":[{\"modality\":\"TEXT\",\"token_count\":589}],\"thoughts_token_count\":495,\"total_token_count\":2006,\"traffic_type\":\"ON_DEMAND\"},\"automatic_function_calling_history\":[]}\n",
            "-----------------------------------------------------------\n",
            "\n"
          ]
        },
        {
          "output_type": "stream",
          "name": "stdout",
          "text": [
            "Agent Response:  That's a lovely idea! Dolls are fantastic for encouraging nurturing play, empathy, storytelling, and developing fine motor skills through dressing and undressing. For a three-year-old, here are some great types of dolls to consider:\n",
            "\n",
            "1.  **Baby Dolls (Classic & Wonderful):**\n",
            "    *   **Why they're great:** Three-year-olds love to mimic what they see, and caring for a baby doll is a natural extension of that. They can feed, burp, change, and comfort their \"baby,\" which fosters empathy and imaginative play.\n",
            "    *   **What to look for:**\n",
            "        *   **Soft body:** Many baby dolls have a soft, huggable body, making them perfect for cuddling.\n",
            "        *   **Washable:** Kids this age can be messy, so a doll that can be wiped clean or even machine-washed (check tags!) is a huge plus.\n",
            "        *   **Simple clothing:** Look for outfits that are easy for little hands to put on and take off (e.g., Velcro closures, elastic waistbands, larger buttons/snaps).\n",
            "        *   **No small parts:** Ensure there are no tiny accessories that could be a choking hazard.\n",
            "        *   **Size:** Not too big or heavy for her to carry around comfortably.\n",
            "\n",
            "    *   **Examples:**\n",
            "        *   **Corolle Mon Premier Bébé Calin:** These dolls are often recommended for their quality, soft vanilla scent, and thoughtful design for young children. They come in various skin tones and have soft bodies.\n",
            "        *   **Melissa & Doug Mine to Love Baby Dolls:** Good quality, soft bodies, and often come with simple clothes and accessories.\n",
            "        *   **Fisher-Price Little Mommy Baby Dolls:** Often designed with younger children in mind, with durable construction.\n",
            "\n",
            "2.  **Soft Fabric Dolls (Rag Dolls):**\n",
            "    *   **Why they're great:** These are incredibly huggable, durable, and pose no choking hazards. They're often lightweight and perfect for snuggling at bedtime or taking on adventures. They encourage open-ended imaginative play.\n",
            "    *   **What to look for:**\n",
            "        *   **Machine washable:** Many fabric dolls can be tossed in the washing machine, which is very convenient.\n",
            "        *   **Embroidery for features:** Instead of plastic eyes or buttons, embroidered features are safest.\n",
            "        *   **Soft, durable fabrics:** Cotton or fleece are common.\n",
            "    *   **Examples:**\n",
            "        *   **Manhattan Toy Baby Stella:** These are very popular, soft, and come with magnetic pacifiers and removable clothes.\n",
            "        *   **HABA Soft Dolls:** High-quality, often with unique designs and soft textures.\n",
            "        *   **Classic Rag Dolls:** Many independent brands and artisanal shops offer lovely, safe fabric dolls.\n",
            "\n",
            "3.  **Toddler/My First Fashion Dolls:**\n",
            "    *   **Why they're great:** If she's starting to show interest in \"bigger kid\" dolls but isn't ready for complex Barbie-style dolls, these are a good bridge. They often have larger, sturdier bodies, easier-to-manage hair, and simpler outfits.\n",
            "    *   **What to look for:**\n",
            "        *   **Larger size:** Easier to hold and manipulate than standard fashion dolls.\n",
            "        *   **Simplified features:** Less intricate clothing and accessories.\n",
            "        *   **Durable hair:** Often rooted well to withstand brushing and styling.\n",
            "    *   **Examples:**\n",
            "        *   **My First Barbie:** Designed specifically for younger children with softer bodies, easier-to-dress clothes, and simple accessories.\n",
            "        *   **Disney Toddler Princess Dolls:** Often larger than standard fashion dolls, with rooted hair and simple fabric outfits.\n",
            "\n",
            "When you're shopping, consider:\n",
            "*   **Her interests:** Does she love animals, or princesses, or just being a \"mommy\"?\n",
            "*   **Durability:** Three-year-olds are still figuring things out, so something that can withstand a few drops or enthusiastic play sessions is ideal.\n",
            "*   **Simplicity:** At this age, less is often more. A doll that allows her to project her own stories and ideas onto it, rather than one that does a lot of talking or has many complex features, is usually best for imaginative development.\n",
            "\n",
            "Any of these options would make a wonderful gift for a three-year-old!\n"
          ]
        },
        {
          "output_type": "stream",
          "name": "stderr",
          "text": [
            "INFO:google_adk.google.adk.memory.vertex_ai_memory_bank_service:Generate memory response received.\n",
            "DEBUG:google_adk.google.adk.memory.vertex_ai_memory_bank_service:Generate memory response: name='projects/1023088879905/locations/us-central1/reasoningEngines/5339215270340722688/operations/6241601866463969280' metadata={'@type': 'type.googleapis.com/google.cloud.aiplatform.v1beta1.GenerateMemoriesOperationMetadata', 'genericMetadata': {'createTime': '2025-10-21T18:04:38.581571Z', 'updateTime': '2025-10-21T18:04:38.581571Z'}} done=None error=None response=None\n"
          ]
        },
        {
          "output_type": "stream",
          "name": "stdout",
          "text": [
            "\n",
            "****Triggered memory generation****\n",
            "\n"
          ]
        }
      ],
      "source": [
        "session = await session_service.create_session(app_name=APP_NAME, user_id=USER_ID)\n",
        "\n",
        "call_agent(\n",
        "    \"What christmas present recommendations do you have for my niece?\",\n",
        "    session.id,\n",
        "    user_id=USER_ID,\n",
        ")\n",
        "\n",
        "call_agent(\n",
        "    \"I think I'll get her a doll. What types are good for her age?\",\n",
        "    session.id,\n",
        "    user_id=USER_ID,\n",
        ")"
      ]
    },
    {
      "cell_type": "code",
      "execution_count": 120,
      "metadata": {
        "colab": {
          "base_uri": "https://localhost:8080/",
          "height": 478
        },
        "id": "E9_pkrRUBBSP",
        "outputId": "2d013f88-6a5f-4a8c-9c70-2539e3a7f59e"
      },
      "outputs": [
        {
          "output_type": "error",
          "ename": "ClientError",
          "evalue": "429 RESOURCE_EXHAUSTED. {'error': {'code': 429, 'message': 'Failed to generate embeddings: Quota exceeded for aiplatform.googleapis.com/online_prediction_requests_per_base_model with base model: textembedding-gecko. Please submit a quota increase request. https://cloud.google.com/vertex-ai/docs/generative-ai/quotas-genai.', 'status': 'RESOURCE_EXHAUSTED'}}",
          "traceback": [
            "\u001b[0;31m---------------------------------------------------------------------------\u001b[0m",
            "\u001b[0;31mClientError\u001b[0m                               Traceback (most recent call last)",
            "\u001b[0;32m/tmp/ipython-input-3193335408.py\u001b[0m in \u001b[0;36m<cell line: 0>\u001b[0;34m()\u001b[0m\n\u001b[0;32m----> 1\u001b[0;31m response = client.agent_engines.memories.retrieve(\n\u001b[0m\u001b[1;32m      2\u001b[0m     \u001b[0mname\u001b[0m\u001b[0;34m=\u001b[0m\u001b[0magent_engine\u001b[0m\u001b[0;34m.\u001b[0m\u001b[0mapi_resource\u001b[0m\u001b[0;34m.\u001b[0m\u001b[0mname\u001b[0m\u001b[0;34m,\u001b[0m\u001b[0;34m\u001b[0m\u001b[0;34m\u001b[0m\u001b[0m\n\u001b[1;32m      3\u001b[0m     \u001b[0mscope\u001b[0m\u001b[0;34m=\u001b[0m\u001b[0;34m{\u001b[0m\u001b[0;34m\"app_name\"\u001b[0m\u001b[0;34m:\u001b[0m \u001b[0mAPP_NAME\u001b[0m\u001b[0;34m,\u001b[0m \u001b[0;34m\"user_id\"\u001b[0m\u001b[0;34m:\u001b[0m \u001b[0mUSER_ID\u001b[0m\u001b[0;34m}\u001b[0m\u001b[0;34m,\u001b[0m\u001b[0;34m\u001b[0m\u001b[0;34m\u001b[0m\u001b[0m\n\u001b[1;32m      4\u001b[0m     similarity_search_params={\n\u001b[1;32m      5\u001b[0m         \u001b[0;34m\"search_query\"\u001b[0m\u001b[0;34m:\u001b[0m \u001b[0;34m\"What was I thinking about getting my niece for Christmas?\"\u001b[0m\u001b[0;34m\u001b[0m\u001b[0;34m\u001b[0m\u001b[0m\n",
            "\u001b[0;32m/usr/local/lib/python3.12/dist-packages/vertexai/_genai/memories.py\u001b[0m in \u001b[0;36mretrieve\u001b[0;34m(self, name, scope, similarity_search_params, simple_retrieval_params, config)\u001b[0m\n\u001b[1;32m   1143\u001b[0m                 \u001b[0mconfig\u001b[0m\u001b[0;34m=\u001b[0m\u001b[0mconfig\u001b[0m\u001b[0;34m,\u001b[0m\u001b[0;34m\u001b[0m\u001b[0;34m\u001b[0m\u001b[0m\n\u001b[1;32m   1144\u001b[0m             ),\n\u001b[0;32m-> 1145\u001b[0;31m             self._retrieve(\n\u001b[0m\u001b[1;32m   1146\u001b[0m                 \u001b[0mname\u001b[0m\u001b[0;34m=\u001b[0m\u001b[0mname\u001b[0m\u001b[0;34m,\u001b[0m\u001b[0;34m\u001b[0m\u001b[0;34m\u001b[0m\u001b[0m\n\u001b[1;32m   1147\u001b[0m                 \u001b[0msimilarity_search_params\u001b[0m\u001b[0;34m=\u001b[0m\u001b[0msimilarity_search_params\u001b[0m\u001b[0;34m,\u001b[0m\u001b[0;34m\u001b[0m\u001b[0;34m\u001b[0m\u001b[0m\n",
            "\u001b[0;32m/usr/local/lib/python3.12/dist-packages/vertexai/_genai/memories.py\u001b[0m in \u001b[0;36m_retrieve\u001b[0;34m(self, name, scope, similarity_search_params, simple_retrieval_params, config)\u001b[0m\n\u001b[1;32m    814\u001b[0m         \u001b[0mrequest_dict\u001b[0m \u001b[0;34m=\u001b[0m \u001b[0m_common\u001b[0m\u001b[0;34m.\u001b[0m\u001b[0mencode_unserializable_types\u001b[0m\u001b[0;34m(\u001b[0m\u001b[0mrequest_dict\u001b[0m\u001b[0;34m)\u001b[0m\u001b[0;34m\u001b[0m\u001b[0;34m\u001b[0m\u001b[0m\n\u001b[1;32m    815\u001b[0m \u001b[0;34m\u001b[0m\u001b[0m\n\u001b[0;32m--> 816\u001b[0;31m         \u001b[0mresponse\u001b[0m \u001b[0;34m=\u001b[0m \u001b[0mself\u001b[0m\u001b[0;34m.\u001b[0m\u001b[0m_api_client\u001b[0m\u001b[0;34m.\u001b[0m\u001b[0mrequest\u001b[0m\u001b[0;34m(\u001b[0m\u001b[0;34m\"post\"\u001b[0m\u001b[0;34m,\u001b[0m \u001b[0mpath\u001b[0m\u001b[0;34m,\u001b[0m \u001b[0mrequest_dict\u001b[0m\u001b[0;34m,\u001b[0m \u001b[0mhttp_options\u001b[0m\u001b[0;34m)\u001b[0m\u001b[0;34m\u001b[0m\u001b[0;34m\u001b[0m\u001b[0m\n\u001b[0m\u001b[1;32m    817\u001b[0m \u001b[0;34m\u001b[0m\u001b[0m\n\u001b[1;32m    818\u001b[0m         \u001b[0mresponse_dict\u001b[0m \u001b[0;34m=\u001b[0m \u001b[0;34m{\u001b[0m\u001b[0;34m}\u001b[0m \u001b[0;32mif\u001b[0m \u001b[0;32mnot\u001b[0m \u001b[0mresponse\u001b[0m\u001b[0;34m.\u001b[0m\u001b[0mbody\u001b[0m \u001b[0;32melse\u001b[0m \u001b[0mjson\u001b[0m\u001b[0;34m.\u001b[0m\u001b[0mloads\u001b[0m\u001b[0;34m(\u001b[0m\u001b[0mresponse\u001b[0m\u001b[0;34m.\u001b[0m\u001b[0mbody\u001b[0m\u001b[0;34m)\u001b[0m\u001b[0;34m\u001b[0m\u001b[0;34m\u001b[0m\u001b[0m\n",
            "\u001b[0;32m/usr/local/lib/python3.12/dist-packages/google/genai/_api_client.py\u001b[0m in \u001b[0;36mrequest\u001b[0;34m(self, http_method, path, request_dict, http_options)\u001b[0m\n\u001b[1;32m   1304\u001b[0m         \u001b[0mhttp_method\u001b[0m\u001b[0;34m,\u001b[0m \u001b[0mpath\u001b[0m\u001b[0;34m,\u001b[0m \u001b[0mrequest_dict\u001b[0m\u001b[0;34m,\u001b[0m \u001b[0mhttp_options\u001b[0m\u001b[0;34m\u001b[0m\u001b[0;34m\u001b[0m\u001b[0m\n\u001b[1;32m   1305\u001b[0m     )\n\u001b[0;32m-> 1306\u001b[0;31m     \u001b[0mresponse\u001b[0m \u001b[0;34m=\u001b[0m \u001b[0mself\u001b[0m\u001b[0;34m.\u001b[0m\u001b[0m_request\u001b[0m\u001b[0;34m(\u001b[0m\u001b[0mhttp_request\u001b[0m\u001b[0;34m,\u001b[0m \u001b[0mhttp_options\u001b[0m\u001b[0;34m,\u001b[0m \u001b[0mstream\u001b[0m\u001b[0;34m=\u001b[0m\u001b[0;32mFalse\u001b[0m\u001b[0;34m)\u001b[0m\u001b[0;34m\u001b[0m\u001b[0;34m\u001b[0m\u001b[0m\n\u001b[0m\u001b[1;32m   1307\u001b[0m     response_body = (\n\u001b[1;32m   1308\u001b[0m         \u001b[0mresponse\u001b[0m\u001b[0;34m.\u001b[0m\u001b[0mresponse_stream\u001b[0m\u001b[0;34m[\u001b[0m\u001b[0;36m0\u001b[0m\u001b[0;34m]\u001b[0m \u001b[0;32mif\u001b[0m \u001b[0mresponse\u001b[0m\u001b[0;34m.\u001b[0m\u001b[0mresponse_stream\u001b[0m \u001b[0;32melse\u001b[0m \u001b[0;34m''\u001b[0m\u001b[0;34m\u001b[0m\u001b[0;34m\u001b[0m\u001b[0m\n",
            "\u001b[0;32m/usr/local/lib/python3.12/dist-packages/google/genai/_api_client.py\u001b[0m in \u001b[0;36m_request\u001b[0;34m(self, http_request, http_options, stream)\u001b[0m\n\u001b[1;32m   1140\u001b[0m         \u001b[0;32mreturn\u001b[0m \u001b[0mretry\u001b[0m\u001b[0;34m(\u001b[0m\u001b[0mself\u001b[0m\u001b[0;34m.\u001b[0m\u001b[0m_request_once\u001b[0m\u001b[0;34m,\u001b[0m \u001b[0mhttp_request\u001b[0m\u001b[0;34m,\u001b[0m \u001b[0mstream\u001b[0m\u001b[0;34m)\u001b[0m  \u001b[0;31m# type: ignore[no-any-return]\u001b[0m\u001b[0;34m\u001b[0m\u001b[0;34m\u001b[0m\u001b[0m\n\u001b[1;32m   1141\u001b[0m \u001b[0;34m\u001b[0m\u001b[0m\n\u001b[0;32m-> 1142\u001b[0;31m     \u001b[0;32mreturn\u001b[0m \u001b[0mself\u001b[0m\u001b[0;34m.\u001b[0m\u001b[0m_retry\u001b[0m\u001b[0;34m(\u001b[0m\u001b[0mself\u001b[0m\u001b[0;34m.\u001b[0m\u001b[0m_request_once\u001b[0m\u001b[0;34m,\u001b[0m \u001b[0mhttp_request\u001b[0m\u001b[0;34m,\u001b[0m \u001b[0mstream\u001b[0m\u001b[0;34m)\u001b[0m  \u001b[0;31m# type: ignore[no-any-return]\u001b[0m\u001b[0;34m\u001b[0m\u001b[0;34m\u001b[0m\u001b[0m\n\u001b[0m\u001b[1;32m   1143\u001b[0m \u001b[0;34m\u001b[0m\u001b[0m\n\u001b[1;32m   1144\u001b[0m   async def _async_request_once(\n",
            "\u001b[0;32m/usr/local/lib/python3.12/dist-packages/tenacity/__init__.py\u001b[0m in \u001b[0;36m__call__\u001b[0;34m(self, fn, *args, **kwargs)\u001b[0m\n\u001b[1;32m    473\u001b[0m         \u001b[0mretry_state\u001b[0m \u001b[0;34m=\u001b[0m \u001b[0mRetryCallState\u001b[0m\u001b[0;34m(\u001b[0m\u001b[0mretry_object\u001b[0m\u001b[0;34m=\u001b[0m\u001b[0mself\u001b[0m\u001b[0;34m,\u001b[0m \u001b[0mfn\u001b[0m\u001b[0;34m=\u001b[0m\u001b[0mfn\u001b[0m\u001b[0;34m,\u001b[0m \u001b[0margs\u001b[0m\u001b[0;34m=\u001b[0m\u001b[0margs\u001b[0m\u001b[0;34m,\u001b[0m \u001b[0mkwargs\u001b[0m\u001b[0;34m=\u001b[0m\u001b[0mkwargs\u001b[0m\u001b[0;34m)\u001b[0m\u001b[0;34m\u001b[0m\u001b[0;34m\u001b[0m\u001b[0m\n\u001b[1;32m    474\u001b[0m         \u001b[0;32mwhile\u001b[0m \u001b[0;32mTrue\u001b[0m\u001b[0;34m:\u001b[0m\u001b[0;34m\u001b[0m\u001b[0;34m\u001b[0m\u001b[0m\n\u001b[0;32m--> 475\u001b[0;31m             \u001b[0mdo\u001b[0m \u001b[0;34m=\u001b[0m \u001b[0mself\u001b[0m\u001b[0;34m.\u001b[0m\u001b[0miter\u001b[0m\u001b[0;34m(\u001b[0m\u001b[0mretry_state\u001b[0m\u001b[0;34m=\u001b[0m\u001b[0mretry_state\u001b[0m\u001b[0;34m)\u001b[0m\u001b[0;34m\u001b[0m\u001b[0;34m\u001b[0m\u001b[0m\n\u001b[0m\u001b[1;32m    476\u001b[0m             \u001b[0;32mif\u001b[0m \u001b[0misinstance\u001b[0m\u001b[0;34m(\u001b[0m\u001b[0mdo\u001b[0m\u001b[0;34m,\u001b[0m \u001b[0mDoAttempt\u001b[0m\u001b[0;34m)\u001b[0m\u001b[0;34m:\u001b[0m\u001b[0;34m\u001b[0m\u001b[0;34m\u001b[0m\u001b[0m\n\u001b[1;32m    477\u001b[0m                 \u001b[0;32mtry\u001b[0m\u001b[0;34m:\u001b[0m\u001b[0;34m\u001b[0m\u001b[0;34m\u001b[0m\u001b[0m\n",
            "\u001b[0;32m/usr/local/lib/python3.12/dist-packages/tenacity/__init__.py\u001b[0m in \u001b[0;36miter\u001b[0;34m(self, retry_state)\u001b[0m\n\u001b[1;32m    374\u001b[0m         \u001b[0mresult\u001b[0m \u001b[0;34m=\u001b[0m \u001b[0;32mNone\u001b[0m\u001b[0;34m\u001b[0m\u001b[0;34m\u001b[0m\u001b[0m\n\u001b[1;32m    375\u001b[0m         \u001b[0;32mfor\u001b[0m \u001b[0maction\u001b[0m \u001b[0;32min\u001b[0m \u001b[0mself\u001b[0m\u001b[0;34m.\u001b[0m\u001b[0miter_state\u001b[0m\u001b[0;34m.\u001b[0m\u001b[0mactions\u001b[0m\u001b[0;34m:\u001b[0m\u001b[0;34m\u001b[0m\u001b[0;34m\u001b[0m\u001b[0m\n\u001b[0;32m--> 376\u001b[0;31m             \u001b[0mresult\u001b[0m \u001b[0;34m=\u001b[0m \u001b[0maction\u001b[0m\u001b[0;34m(\u001b[0m\u001b[0mretry_state\u001b[0m\u001b[0;34m)\u001b[0m\u001b[0;34m\u001b[0m\u001b[0;34m\u001b[0m\u001b[0m\n\u001b[0m\u001b[1;32m    377\u001b[0m         \u001b[0;32mreturn\u001b[0m \u001b[0mresult\u001b[0m\u001b[0;34m\u001b[0m\u001b[0;34m\u001b[0m\u001b[0m\n\u001b[1;32m    378\u001b[0m \u001b[0;34m\u001b[0m\u001b[0m\n",
            "\u001b[0;32m/usr/local/lib/python3.12/dist-packages/tenacity/__init__.py\u001b[0m in \u001b[0;36mexc_check\u001b[0;34m(rs)\u001b[0m\n\u001b[1;32m    416\u001b[0m                 \u001b[0mretry_exc\u001b[0m \u001b[0;34m=\u001b[0m \u001b[0mself\u001b[0m\u001b[0;34m.\u001b[0m\u001b[0mretry_error_cls\u001b[0m\u001b[0;34m(\u001b[0m\u001b[0mfut\u001b[0m\u001b[0;34m)\u001b[0m\u001b[0;34m\u001b[0m\u001b[0;34m\u001b[0m\u001b[0m\n\u001b[1;32m    417\u001b[0m                 \u001b[0;32mif\u001b[0m \u001b[0mself\u001b[0m\u001b[0;34m.\u001b[0m\u001b[0mreraise\u001b[0m\u001b[0;34m:\u001b[0m\u001b[0;34m\u001b[0m\u001b[0;34m\u001b[0m\u001b[0m\n\u001b[0;32m--> 418\u001b[0;31m                     \u001b[0;32mraise\u001b[0m \u001b[0mretry_exc\u001b[0m\u001b[0;34m.\u001b[0m\u001b[0mreraise\u001b[0m\u001b[0;34m(\u001b[0m\u001b[0;34m)\u001b[0m\u001b[0;34m\u001b[0m\u001b[0;34m\u001b[0m\u001b[0m\n\u001b[0m\u001b[1;32m    419\u001b[0m                 \u001b[0;32mraise\u001b[0m \u001b[0mretry_exc\u001b[0m \u001b[0;32mfrom\u001b[0m \u001b[0mfut\u001b[0m\u001b[0;34m.\u001b[0m\u001b[0mexception\u001b[0m\u001b[0;34m(\u001b[0m\u001b[0;34m)\u001b[0m\u001b[0;34m\u001b[0m\u001b[0;34m\u001b[0m\u001b[0m\n\u001b[1;32m    420\u001b[0m \u001b[0;34m\u001b[0m\u001b[0m\n",
            "\u001b[0;32m/usr/local/lib/python3.12/dist-packages/tenacity/__init__.py\u001b[0m in \u001b[0;36mreraise\u001b[0;34m(self)\u001b[0m\n\u001b[1;32m    183\u001b[0m     \u001b[0;32mdef\u001b[0m \u001b[0mreraise\u001b[0m\u001b[0;34m(\u001b[0m\u001b[0mself\u001b[0m\u001b[0;34m)\u001b[0m \u001b[0;34m->\u001b[0m \u001b[0mt\u001b[0m\u001b[0;34m.\u001b[0m\u001b[0mNoReturn\u001b[0m\u001b[0;34m:\u001b[0m\u001b[0;34m\u001b[0m\u001b[0;34m\u001b[0m\u001b[0m\n\u001b[1;32m    184\u001b[0m         \u001b[0;32mif\u001b[0m \u001b[0mself\u001b[0m\u001b[0;34m.\u001b[0m\u001b[0mlast_attempt\u001b[0m\u001b[0;34m.\u001b[0m\u001b[0mfailed\u001b[0m\u001b[0;34m:\u001b[0m\u001b[0;34m\u001b[0m\u001b[0;34m\u001b[0m\u001b[0m\n\u001b[0;32m--> 185\u001b[0;31m             \u001b[0;32mraise\u001b[0m \u001b[0mself\u001b[0m\u001b[0;34m.\u001b[0m\u001b[0mlast_attempt\u001b[0m\u001b[0;34m.\u001b[0m\u001b[0mresult\u001b[0m\u001b[0;34m(\u001b[0m\u001b[0;34m)\u001b[0m\u001b[0;34m\u001b[0m\u001b[0;34m\u001b[0m\u001b[0m\n\u001b[0m\u001b[1;32m    186\u001b[0m         \u001b[0;32mraise\u001b[0m \u001b[0mself\u001b[0m\u001b[0;34m\u001b[0m\u001b[0;34m\u001b[0m\u001b[0m\n\u001b[1;32m    187\u001b[0m \u001b[0;34m\u001b[0m\u001b[0m\n",
            "\u001b[0;32m/usr/lib/python3.12/concurrent/futures/_base.py\u001b[0m in \u001b[0;36mresult\u001b[0;34m(self, timeout)\u001b[0m\n\u001b[1;32m    447\u001b[0m                     \u001b[0;32mraise\u001b[0m \u001b[0mCancelledError\u001b[0m\u001b[0;34m(\u001b[0m\u001b[0;34m)\u001b[0m\u001b[0;34m\u001b[0m\u001b[0;34m\u001b[0m\u001b[0m\n\u001b[1;32m    448\u001b[0m                 \u001b[0;32melif\u001b[0m \u001b[0mself\u001b[0m\u001b[0;34m.\u001b[0m\u001b[0m_state\u001b[0m \u001b[0;34m==\u001b[0m \u001b[0mFINISHED\u001b[0m\u001b[0;34m:\u001b[0m\u001b[0;34m\u001b[0m\u001b[0;34m\u001b[0m\u001b[0m\n\u001b[0;32m--> 449\u001b[0;31m                     \u001b[0;32mreturn\u001b[0m \u001b[0mself\u001b[0m\u001b[0;34m.\u001b[0m\u001b[0m__get_result\u001b[0m\u001b[0;34m(\u001b[0m\u001b[0;34m)\u001b[0m\u001b[0;34m\u001b[0m\u001b[0;34m\u001b[0m\u001b[0m\n\u001b[0m\u001b[1;32m    450\u001b[0m \u001b[0;34m\u001b[0m\u001b[0m\n\u001b[1;32m    451\u001b[0m                 \u001b[0mself\u001b[0m\u001b[0;34m.\u001b[0m\u001b[0m_condition\u001b[0m\u001b[0;34m.\u001b[0m\u001b[0mwait\u001b[0m\u001b[0;34m(\u001b[0m\u001b[0mtimeout\u001b[0m\u001b[0;34m)\u001b[0m\u001b[0;34m\u001b[0m\u001b[0;34m\u001b[0m\u001b[0m\n",
            "\u001b[0;32m/usr/lib/python3.12/concurrent/futures/_base.py\u001b[0m in \u001b[0;36m__get_result\u001b[0;34m(self)\u001b[0m\n\u001b[1;32m    399\u001b[0m         \u001b[0;32mif\u001b[0m \u001b[0mself\u001b[0m\u001b[0;34m.\u001b[0m\u001b[0m_exception\u001b[0m\u001b[0;34m:\u001b[0m\u001b[0;34m\u001b[0m\u001b[0;34m\u001b[0m\u001b[0m\n\u001b[1;32m    400\u001b[0m             \u001b[0;32mtry\u001b[0m\u001b[0;34m:\u001b[0m\u001b[0;34m\u001b[0m\u001b[0;34m\u001b[0m\u001b[0m\n\u001b[0;32m--> 401\u001b[0;31m                 \u001b[0;32mraise\u001b[0m \u001b[0mself\u001b[0m\u001b[0;34m.\u001b[0m\u001b[0m_exception\u001b[0m\u001b[0;34m\u001b[0m\u001b[0;34m\u001b[0m\u001b[0m\n\u001b[0m\u001b[1;32m    402\u001b[0m             \u001b[0;32mfinally\u001b[0m\u001b[0;34m:\u001b[0m\u001b[0;34m\u001b[0m\u001b[0;34m\u001b[0m\u001b[0m\n\u001b[1;32m    403\u001b[0m                 \u001b[0;31m# Break a reference cycle with the exception in self._exception\u001b[0m\u001b[0;34m\u001b[0m\u001b[0;34m\u001b[0m\u001b[0m\n",
            "\u001b[0;32m/usr/local/lib/python3.12/dist-packages/tenacity/__init__.py\u001b[0m in \u001b[0;36m__call__\u001b[0;34m(self, fn, *args, **kwargs)\u001b[0m\n\u001b[1;32m    476\u001b[0m             \u001b[0;32mif\u001b[0m \u001b[0misinstance\u001b[0m\u001b[0;34m(\u001b[0m\u001b[0mdo\u001b[0m\u001b[0;34m,\u001b[0m \u001b[0mDoAttempt\u001b[0m\u001b[0;34m)\u001b[0m\u001b[0;34m:\u001b[0m\u001b[0;34m\u001b[0m\u001b[0;34m\u001b[0m\u001b[0m\n\u001b[1;32m    477\u001b[0m                 \u001b[0;32mtry\u001b[0m\u001b[0;34m:\u001b[0m\u001b[0;34m\u001b[0m\u001b[0;34m\u001b[0m\u001b[0m\n\u001b[0;32m--> 478\u001b[0;31m                     \u001b[0mresult\u001b[0m \u001b[0;34m=\u001b[0m \u001b[0mfn\u001b[0m\u001b[0;34m(\u001b[0m\u001b[0;34m*\u001b[0m\u001b[0margs\u001b[0m\u001b[0;34m,\u001b[0m \u001b[0;34m**\u001b[0m\u001b[0mkwargs\u001b[0m\u001b[0;34m)\u001b[0m\u001b[0;34m\u001b[0m\u001b[0;34m\u001b[0m\u001b[0m\n\u001b[0m\u001b[1;32m    479\u001b[0m                 \u001b[0;32mexcept\u001b[0m \u001b[0mBaseException\u001b[0m\u001b[0;34m:\u001b[0m  \u001b[0;31m# noqa: B902\u001b[0m\u001b[0;34m\u001b[0m\u001b[0;34m\u001b[0m\u001b[0m\n\u001b[1;32m    480\u001b[0m                     \u001b[0mretry_state\u001b[0m\u001b[0;34m.\u001b[0m\u001b[0mset_exception\u001b[0m\u001b[0;34m(\u001b[0m\u001b[0msys\u001b[0m\u001b[0;34m.\u001b[0m\u001b[0mexc_info\u001b[0m\u001b[0;34m(\u001b[0m\u001b[0;34m)\u001b[0m\u001b[0;34m)\u001b[0m  \u001b[0;31m# type: ignore[arg-type]\u001b[0m\u001b[0;34m\u001b[0m\u001b[0;34m\u001b[0m\u001b[0m\n",
            "\u001b[0;32m/usr/local/lib/python3.12/dist-packages/google/genai/_api_client.py\u001b[0m in \u001b[0;36m_request_once\u001b[0;34m(self, http_request, stream)\u001b[0m\n\u001b[1;32m   1117\u001b[0m           \u001b[0mtimeout\u001b[0m\u001b[0;34m=\u001b[0m\u001b[0mhttp_request\u001b[0m\u001b[0;34m.\u001b[0m\u001b[0mtimeout\u001b[0m\u001b[0;34m,\u001b[0m\u001b[0;34m\u001b[0m\u001b[0;34m\u001b[0m\u001b[0m\n\u001b[1;32m   1118\u001b[0m       )\n\u001b[0;32m-> 1119\u001b[0;31m       \u001b[0merrors\u001b[0m\u001b[0;34m.\u001b[0m\u001b[0mAPIError\u001b[0m\u001b[0;34m.\u001b[0m\u001b[0mraise_for_response\u001b[0m\u001b[0;34m(\u001b[0m\u001b[0mresponse\u001b[0m\u001b[0;34m)\u001b[0m\u001b[0;34m\u001b[0m\u001b[0;34m\u001b[0m\u001b[0m\n\u001b[0m\u001b[1;32m   1120\u001b[0m       return HttpResponse(\n\u001b[1;32m   1121\u001b[0m           \u001b[0mresponse\u001b[0m\u001b[0;34m.\u001b[0m\u001b[0mheaders\u001b[0m\u001b[0;34m,\u001b[0m \u001b[0mresponse\u001b[0m \u001b[0;32mif\u001b[0m \u001b[0mstream\u001b[0m \u001b[0;32melse\u001b[0m \u001b[0;34m[\u001b[0m\u001b[0mresponse\u001b[0m\u001b[0;34m.\u001b[0m\u001b[0mtext\u001b[0m\u001b[0;34m]\u001b[0m\u001b[0;34m\u001b[0m\u001b[0;34m\u001b[0m\u001b[0m\n",
            "\u001b[0;32m/usr/local/lib/python3.12/dist-packages/google/genai/errors.py\u001b[0m in \u001b[0;36mraise_for_response\u001b[0;34m(cls, response)\u001b[0m\n\u001b[1;32m    106\u001b[0m     \u001b[0mstatus_code\u001b[0m \u001b[0;34m=\u001b[0m \u001b[0mresponse\u001b[0m\u001b[0;34m.\u001b[0m\u001b[0mstatus_code\u001b[0m\u001b[0;34m\u001b[0m\u001b[0;34m\u001b[0m\u001b[0m\n\u001b[1;32m    107\u001b[0m     \u001b[0;32mif\u001b[0m \u001b[0;36m400\u001b[0m \u001b[0;34m<=\u001b[0m \u001b[0mstatus_code\u001b[0m \u001b[0;34m<\u001b[0m \u001b[0;36m500\u001b[0m\u001b[0;34m:\u001b[0m\u001b[0;34m\u001b[0m\u001b[0;34m\u001b[0m\u001b[0m\n\u001b[0;32m--> 108\u001b[0;31m       \u001b[0;32mraise\u001b[0m \u001b[0mClientError\u001b[0m\u001b[0;34m(\u001b[0m\u001b[0mstatus_code\u001b[0m\u001b[0;34m,\u001b[0m \u001b[0mresponse_json\u001b[0m\u001b[0;34m,\u001b[0m \u001b[0mresponse\u001b[0m\u001b[0;34m)\u001b[0m\u001b[0;34m\u001b[0m\u001b[0;34m\u001b[0m\u001b[0m\n\u001b[0m\u001b[1;32m    109\u001b[0m     \u001b[0;32melif\u001b[0m \u001b[0;36m500\u001b[0m \u001b[0;34m<=\u001b[0m \u001b[0mstatus_code\u001b[0m \u001b[0;34m<\u001b[0m \u001b[0;36m600\u001b[0m\u001b[0;34m:\u001b[0m\u001b[0;34m\u001b[0m\u001b[0;34m\u001b[0m\u001b[0m\n\u001b[1;32m    110\u001b[0m       \u001b[0;32mraise\u001b[0m \u001b[0mServerError\u001b[0m\u001b[0;34m(\u001b[0m\u001b[0mstatus_code\u001b[0m\u001b[0;34m,\u001b[0m \u001b[0mresponse_json\u001b[0m\u001b[0;34m,\u001b[0m \u001b[0mresponse\u001b[0m\u001b[0;34m)\u001b[0m\u001b[0;34m\u001b[0m\u001b[0;34m\u001b[0m\u001b[0m\n",
            "\u001b[0;31mClientError\u001b[0m: 429 RESOURCE_EXHAUSTED. {'error': {'code': 429, 'message': 'Failed to generate embeddings: Quota exceeded for aiplatform.googleapis.com/online_prediction_requests_per_base_model with base model: textembedding-gecko. Please submit a quota increase request. https://cloud.google.com/vertex-ai/docs/generative-ai/quotas-genai.', 'status': 'RESOURCE_EXHAUSTED'}}"
          ]
        }
      ],
      "source": [
        "response = client.agent_engines.memories.retrieve(\n",
        "    name=agent_engine.api_resource.name,\n",
        "    scope={\"app_name\": APP_NAME, \"user_id\": USER_ID},\n",
        "    similarity_search_params={\n",
        "        \"search_query\": \"What was I thinking about getting my niece for Christmas?\"\n",
        "    },\n",
        ")\n",
        "list(response)"
      ]
    },
    {
      "cell_type": "markdown",
      "metadata": {
        "id": "koK2O-odR36D"
      },
      "source": [
        "The prior example used the entire Session to generate memories. However, this can be costly as the size of the session increases.\n",
        "\n",
        "You can also use callbacks to only save the current turn to Memory Bank. This has the downside, however, where you lose some of the context of the conversation."
      ]
    },
    {
      "cell_type": "code",
      "execution_count": null,
      "metadata": {
        "id": "F5hWwSvEPaaW"
      },
      "outputs": [],
      "source": [
        "async def auto_save_user_turn_to_memory_callback(callback_context):\n",
        "    last_turn = callback_context._invocation_context.user_content\n",
        "    client.agent_engines.memories.generate(\n",
        "        name=agent_engine.api_resource.name,\n",
        "        scope={\"app_name\": APP_NAME, \"user_id\": USER_ID},\n",
        "        direct_contents_source={\"events\": [{\"content\": last_turn}]},\n",
        "        config={\"wait_for_completion\": False},\n",
        "    )\n",
        "    print(\"\\n****Triggered memory generation****\\n\")\n",
        "\n",
        "\n",
        "agent = LlmAgent(\n",
        "    model=MODEL,\n",
        "    name=\"Generic_QA_Agent\",\n",
        "    instruction=\"Answer the user's questions\",\n",
        "    tools=[adk.tools.preload_memory_tool.PreloadMemoryTool()],\n",
        "    before_agent_callback=auto_save_user_turn_to_memory_callback,\n",
        ")\n",
        "\n",
        "runner = Runner(\n",
        "    agent=agent,\n",
        "    app_name=APP_NAME,\n",
        "    session_service=session_service,\n",
        "    memory_service=memory_bank_service,\n",
        ")"
      ]
    },
    {
      "cell_type": "code",
      "execution_count": null,
      "metadata": {
        "id": "ziRXQsAJPeYl"
      },
      "outputs": [],
      "source": [
        "call_agent(\n",
        "    \"I think I'll get her a doll. What types are good for her age?\",\n",
        "    session.id,\n",
        "    user_id=USER_ID,\n",
        ")"
      ]
    },
    {
      "cell_type": "markdown",
      "metadata": {
        "id": "rstDOvEhWogm"
      },
      "source": [
        "## Using Memory in your agent\n",
        "\n",
        "Now, let's link our agent to Memory, so that memories can be fetched by your agent and used for inference. This allows your agent to remember information from prior sessions in a new, empty session.\n",
        "\n",
        "You can use ADK's built-in tools to fetch memories and incorporate them in the prompt. When using the built-in tools, it's important to provide both a memory tool when creating your Agent and a memory service when defining your Runner."
      ]
    },
    {
      "cell_type": "markdown",
      "metadata": {
        "id": "yOiYWk7GZlyN"
      },
      "source": [
        "### `adk.PreloadMemoryTool`\n",
        "The `PreloadMemoryTool` always retrieves memories at the start of each turn and includes the memories in the system instruction.\n",
        "\n",
        "Under the hood, it invokes `memory_service.search_memory` for the given User and App Name. Memory is invoked before the LLM is called, so there will not be an associated tool call logged for memory.\n",
        "\n",
        "We're going to use a [callback](https://google.github.io/adk-docs/callbacks/) to print out the System Instructions. Since we use `before_model_callback`, the callback executes right before the model is called.\n",
        "\n",
        "<img src=\"https://google.github.io/adk-docs/assets/callback_flow.png\">"
      ]
    },
    {
      "cell_type": "code",
      "execution_count": null,
      "metadata": {
        "id": "l1ENgxmkWnVl"
      },
      "outputs": [],
      "source": [
        "from google import adk\n",
        "\n",
        "\n",
        "def log_system_instructions(callback_context, llm_request):\n",
        "    \"\"\"A callback to print the LLM request.\"\"\"\n",
        "    print(\n",
        "        f\"\\n*System Instruction*:\\n{llm_request.config.system_instruction}\\n*********\\n\"\n",
        "    )\n",
        "\n",
        "\n",
        "agent = LlmAgent(\n",
        "    model=MODEL,\n",
        "    name=\"Generic_QA_Agent\",\n",
        "    instruction=\"Answer the user's questions\",\n",
        "    tools=[adk.tools.preload_memory_tool.PreloadMemoryTool()],\n",
        "    before_model_callback=log_system_instructions,\n",
        ")\n",
        "\n",
        "runner = Runner(\n",
        "    agent=agent,\n",
        "    app_name=APP_NAME,\n",
        "    session_service=session_service,\n",
        "    memory_service=memory_bank_service,\n",
        ")"
      ]
    },
    {
      "cell_type": "markdown",
      "metadata": {
        "id": "r0g7dxD0aG_H"
      },
      "source": [
        "This conversation uses a new session, so it doesn't have access to the user's conversation history without using memory.\n",
        "\n",
        "Since we're using `PreloadMemoryTool`, the retrieved memories will be appended to the System Instructions."
      ]
    },
    {
      "cell_type": "code",
      "execution_count": null,
      "metadata": {
        "id": "2FD9VV_4Hqja"
      },
      "outputs": [],
      "source": [
        "session = await session_service.create_session(app_name=APP_NAME, user_id=USER_ID)\n",
        "\n",
        "call_agent(\n",
        "    \"Can you remind me what I got my niece for her christmas?\",\n",
        "    session.id,\n",
        "    user_id=USER_ID,\n",
        ")"
      ]
    },
    {
      "cell_type": "markdown",
      "metadata": {
        "id": "TSpv-aGuaG4g"
      },
      "source": [
        "### adk.LoadMemoryTool\n",
        "\n",
        "Now, let's use `LoadMemoryTool`. Unlike `PreloadMemoryTool`, this tool acts like a standard tool. Your agent needs to decide whether the tool should be invoked."
      ]
    },
    {
      "cell_type": "code",
      "execution_count": null,
      "metadata": {
        "id": "aIbplEW0ZlRR"
      },
      "outputs": [],
      "source": [
        "from google import adk\n",
        "\n",
        "\n",
        "def log_tool_call(tool, args, tool_response, **kwargs):\n",
        "    \"\"\"A callback to print the LLM request.\"\"\"\n",
        "    print(f\"\\n*Tool*:\\n{tool}\")\n",
        "    print(f\"\\n*Tool call*:\\n{args}\")\n",
        "    print(f\"\\n*Tool response*:\\n{tool_response}\\n*********\\n\")\n",
        "\n",
        "\n",
        "agent = LlmAgent(\n",
        "    model=MODEL,\n",
        "    name=\"Generic_QA_Agent\",\n",
        "    instruction=\"Answer the user's questions\",\n",
        "    tools=[adk.tools.load_memory_tool.LoadMemoryTool()],\n",
        "    before_model_callback=log_system_instructions,\n",
        "    after_tool_callback=log_tool_call,\n",
        ")\n",
        "\n",
        "runner = Runner(\n",
        "    agent=agent,\n",
        "    app_name=APP_NAME,\n",
        "    session_service=session_service,\n",
        "    memory_service=memory_bank_service,\n",
        ")"
      ]
    },
    {
      "cell_type": "code",
      "execution_count": null,
      "metadata": {
        "id": "u2LLB98aZssb"
      },
      "outputs": [],
      "source": [
        "session = await session_service.create_session(app_name=APP_NAME, user_id=USER_ID)\n",
        "\n",
        "call_agent(\n",
        "    \"Can you remind me what I got my niece for her christmas?\",\n",
        "    session.id,\n",
        "    user_id=USER_ID,\n",
        ")"
      ]
    },
    {
      "cell_type": "markdown",
      "metadata": {
        "id": "9uGnTDQO42tf"
      },
      "source": [
        "If the agent decides that Memory is not helpful for a given query, the Memory tool will not be invoked."
      ]
    },
    {
      "cell_type": "code",
      "execution_count": null,
      "metadata": {
        "id": "Pmm3SJOsd288"
      },
      "outputs": [],
      "source": [
        "session = await session_service.create_session(app_name=APP_NAME, user_id=USER_ID)\n",
        "\n",
        "call_agent(\"Hi!\", session.id, user_id=USER_ID)"
      ]
    },
    {
      "cell_type": "markdown",
      "metadata": {
        "id": "-M6GeiZzAox6"
      },
      "source": [
        "### Custom callback to retrieve memories\n",
        "\n",
        "If you want more control over how memories are retrieved, you can create your own custom callback.\n",
        "\n",
        "For example, you can use the Agent Engine SDK within the callback to retrieve memories without similarity search. This is lower latency than using similarity search.\n",
        "\n",
        "You can also customize your `scope` rather than using the default \"app_name\" and \"user_id\" scope keys used by ADK's memory service."
      ]
    },
    {
      "cell_type": "code",
      "execution_count": null,
      "metadata": {
        "id": "TUc_jTzr5QSm"
      },
      "outputs": [],
      "source": [
        "def retrieve_memories_callback(callback_context, llm_request):\n",
        "    user_id = callback_context._invocation_context.user_id\n",
        "\n",
        "    response = client.agent_engines.memories.retrieve(\n",
        "        name=agent_engine.api_resource.name,\n",
        "        # Unlike the ADK Memory Service, this does not use App Name in the scope.\n",
        "        scope={\"user_id\": user_id},\n",
        "    )\n",
        "    memories = [f\"* {memory.memory.fact}\" for memory in list(response)]\n",
        "    if not memories:\n",
        "        # No memories to add to System Instructions.\n",
        "        return\n",
        "    # Append formatted memories to the System Instructions\n",
        "    llm_request.config.system_instruction += (\n",
        "        \"\\nHere is information that you have about the user:\\n\"\n",
        "    )\n",
        "    llm_request.config.system_instruction += \"\\n\".join(memories)\n",
        "\n",
        "\n",
        "def log_tool_call(tool, args, tool_response, **kwargs):\n",
        "    \"\"\"A callback to print the LLM request.\"\"\"\n",
        "    print(f\"\\n*Tool*:\\n{tool}\")\n",
        "    print(f\"\\n*Tool call*:\\n{args}\")\n",
        "    print(f\"\\n*Tool response*:\\n{log_tool_call}\\n*********\\n\")\n",
        "\n",
        "\n",
        "agent = LlmAgent(\n",
        "    model=MODEL,\n",
        "    name=\"Generic_QA_Agent\",\n",
        "    instruction=\"Answer the user's questions\",\n",
        "    before_model_callback=retrieve_memories_callback,\n",
        ")\n",
        "\n",
        "runner = Runner(\n",
        "    agent=agent,\n",
        "    app_name=APP_NAME,\n",
        "    session_service=session_service,\n",
        "    memory_service=memory_bank_service,\n",
        ")"
      ]
    },
    {
      "cell_type": "markdown",
      "metadata": {
        "id": "hPHr71m4_hiJ"
      },
      "source": [
        "Since we're using a different scope than the ADK Memory Service, we don't have access to the prior memories. Memories are isolated by their scope dictionary."
      ]
    },
    {
      "cell_type": "code",
      "execution_count": null,
      "metadata": {
        "id": "0zV-bZtz51E6"
      },
      "outputs": [],
      "source": [
        "session = await session_service.create_session(app_name=APP_NAME, user_id=USER_ID)\n",
        "\n",
        "call_agent(\"Hi!\", session.id, user_id=USER_ID)"
      ]
    },
    {
      "cell_type": "markdown",
      "metadata": {
        "id": "F-RoQ0UF_s5v"
      },
      "source": [
        "Let's first generate memories for our new scope."
      ]
    },
    {
      "cell_type": "code",
      "execution_count": null,
      "metadata": {
        "id": "3PjiIK2L_r43"
      },
      "outputs": [],
      "source": [
        "client.agent_engines.memories.generate(\n",
        "    scope={\"user_id\": USER_ID},\n",
        "    name=agent_engine.api_resource.name,\n",
        "    direct_contents_source={\n",
        "        \"events\": [\n",
        "            {\"content\": {\"role\": \"user\", \"parts\": [{\"text\": \"I have four nieces!\"}]}}\n",
        "        ]\n",
        "    },\n",
        ")"
      ]
    },
    {
      "cell_type": "code",
      "execution_count": null,
      "metadata": {
        "id": "fTzgPdtU_9Qd"
      },
      "outputs": [],
      "source": [
        "call_agent(\"What information do you know about me?\", session.id, user_id=USER_ID)"
      ]
    },
    {
      "cell_type": "markdown",
      "metadata": {
        "id": "SAw7Dax-biQW"
      },
      "source": [
        "## Customize your Memory Bank's behavior\n",
        "\n",
        "So far, we've used Memory Bank with it's default settings. Now, let's customize some configurations. The configuration is set when creating or updating your Agent Engine."
      ]
    },
    {
      "cell_type": "markdown",
      "metadata": {
        "id": "6nIKVog-sitb"
      },
      "source": [
        "### Customizing Memory Extraction\n",
        "\n",
        "By default, Memory Bank considers memories that fit the following topics to be meaningful:\n",
        "\n",
        "* **Personal information (`USER_PERSONAL_INFO`)**: Significant personal information about the user, like names, relationships, hobbies, and important dates. For example, \"I work at Google\" or \"My wedding anniversary is on December 31\".\n",
        "* **User preferences (`USER_PREFERENCES`)**: Stated or implied likes, dislikes, preferred styles, or patterns. For example, \"I prefer the middle seat.\"\n",
        "* **Key conversation events and task outcomes (`KEY_CONVERSATION_DETAILS`)**: Important milestones or conclusions within the dialogue. For example, \"I booked plane tickets for a round trip between JFK and SFO. I leave on June 1, 2025 and return on June 7, 2025.\"\n",
        "* **Explicit remember / forget instructions (`EXPLICIT_INSTRUCTIONS`)**: Information that the user explicitly asks the agent to remember or forget. For example, if the user says \"Remember that I primarily use Python,\" Memory Bank generates a memory such as \"I primarily use Python.\"\n",
        "\n",
        "These are managed topics where Memory Bank manages their definition. If you want to use a subset of these topics or use custom topics, you can provide a \"CustomizationConfig\" to customize what information Memory Bank should consider meaningful to persist."
      ]
    },
    {
      "cell_type": "markdown",
      "metadata": {
        "id": "G2pwuUddXf59"
      },
      "source": [
        "#### Managed Topics\n",
        "\n",
        "We're going to update our Memory Bank to only extract user preferences.\n",
        "\n",
        "This will take affect for all requests to Memory Bank, regardless of whether you use ADK or Agent Engine SDK."
      ]
    },
    {
      "cell_type": "code",
      "execution_count": null,
      "metadata": {
        "id": "6qc7x-1tXWS_"
      },
      "outputs": [],
      "source": [
        "user_preferences_config = {\n",
        "    \"scope_keys\": [\"user_id\"],\n",
        "    \"memory_topics\": [\n",
        "        {\"managed_memory_topic\": {\"managed_topic_enum\": \"USER_PREFERENCES\"}}\n",
        "    ],\n",
        "}\n",
        "\n",
        "\n",
        "client.agent_engines.update(\n",
        "    name=agent_engine.api_resource.name,\n",
        "    config={\n",
        "        \"context_spec\": {\n",
        "            \"memory_bank_config\": {\n",
        "                \"customization_configs\": [user_preferences_config],\n",
        "            }\n",
        "        }\n",
        "    },\n",
        ")"
      ]
    },
    {
      "cell_type": "markdown",
      "metadata": {
        "id": "t3RNGsTmYI74"
      },
      "source": [
        "Memories that fit the `USER_PREFERENCES` category will be persisted."
      ]
    },
    {
      "cell_type": "code",
      "execution_count": null,
      "metadata": {
        "id": "g_efAhHIYGEC"
      },
      "outputs": [],
      "source": [
        "client.agent_engines.memories.generate(\n",
        "    scope={\"user_id\": USER_ID},\n",
        "    name=agent_engine.api_resource.name,\n",
        "    direct_contents_source={\n",
        "        \"events\": [\n",
        "            {\n",
        "                \"content\": {\n",
        "                    \"role\": \"user\",\n",
        "                    \"parts\": [{\"text\": \"I prefer the aisle seat\"}],\n",
        "                }\n",
        "            }\n",
        "        ]\n",
        "    },\n",
        ")"
      ]
    },
    {
      "cell_type": "markdown",
      "metadata": {
        "id": "0W7oEz7KYOks"
      },
      "source": [
        "Memories that don't fit `USER_PREFERENCES` won't be persisted."
      ]
    },
    {
      "cell_type": "code",
      "execution_count": null,
      "metadata": {
        "id": "V9sQPIGQYTr0"
      },
      "outputs": [],
      "source": [
        "client.agent_engines.memories.generate(\n",
        "    scope={\"user_id\": USER_ID},\n",
        "    name=agent_engine.api_resource.name,\n",
        "    direct_contents_source={\n",
        "        \"events\": [\n",
        "            {\n",
        "                \"content\": {\n",
        "                    \"role\": \"user\",\n",
        "                    \"parts\": [{\"text\": \"I'm going to get my niece a red bike\"}],\n",
        "                }\n",
        "            }\n",
        "        ]\n",
        "    },\n",
        ")"
      ]
    },
    {
      "cell_type": "markdown",
      "metadata": {
        "id": "SodYXQQrXMqD"
      },
      "source": [
        "#### Custom Topics\n",
        "Alternatively, you can define your own custom topics where you define your own labels, descriptions, and examples."
      ]
    },
    {
      "cell_type": "code",
      "execution_count": null,
      "metadata": {
        "id": "o-W0cxdqsjRi"
      },
      "outputs": [],
      "source": [
        "from vertexai.types import MemoryBankCustomizationConfig as CustomizationConfig\n",
        "from vertexai.types import (\n",
        "    MemoryBankCustomizationConfigGenerateMemoriesExample as GenerateMemoriesExample,\n",
        ")\n",
        "from vertexai.types import (\n",
        "    MemoryBankCustomizationConfigGenerateMemoriesExampleConversationSource as ConversationSource,\n",
        ")\n",
        "from vertexai.types import (\n",
        "    MemoryBankCustomizationConfigGenerateMemoriesExampleConversationSourceEvent as ConversationSourceEvent,\n",
        ")\n",
        "from vertexai.types import (\n",
        "    MemoryBankCustomizationConfigGenerateMemoriesExampleGeneratedMemory as ExampleGeneratedMemory,\n",
        ")\n",
        "from vertexai.types import MemoryBankCustomizationConfigMemoryTopic as MemoryTopic\n",
        "from vertexai.types import (\n",
        "    MemoryBankCustomizationConfigMemoryTopicCustomMemoryTopic as CustomMemoryTopic,\n",
        ")\n",
        "\n",
        "memory_topic = MemoryTopic(\n",
        "    custom_memory_topic=CustomMemoryTopic(\n",
        "        label=\"business_feedback\",\n",
        "        description=\"\"\"Specific user feedback about their experience at\n",
        "the coffee shop. This includes opinions on drinks, food, pastries, ambiance,\n",
        "staff friendliness, service speed, cleanliness, and any suggestions for\n",
        "improvement.\"\"\",\n",
        "    )\n",
        ")\n",
        "\n",
        "\n",
        "example = GenerateMemoriesExample(\n",
        "    conversation_source=ConversationSource(\n",
        "        events=[\n",
        "            ConversationSourceEvent(\n",
        "                content=Content(\n",
        "                    role=\"model\",\n",
        "                    parts=[\n",
        "                        Part(\n",
        "                            text=\"Welcome back to The Daily Grind! We'd love to hear your feedback on your visit.\"\n",
        "                        )\n",
        "                    ],\n",
        "                )\n",
        "            ),\n",
        "            ConversationSourceEvent(\n",
        "                content=Content(\n",
        "                    role=\"user\",\n",
        "                    parts=[\n",
        "                        Part(\n",
        "                            text=\"Hey. The drip coffee was a bit lukewarm today, which was a bummer. Also, the music was way too loud, I could barely hear my friend.\"\n",
        "                        )\n",
        "                    ],\n",
        "                )\n",
        "            ),\n",
        "        ]\n",
        "    ),\n",
        "    generated_memories=[\n",
        "        ExampleGeneratedMemory(\n",
        "            fact=\"The user reported that the drip coffee was lukewarm.\"\n",
        "        ),\n",
        "        ExampleGeneratedMemory(\n",
        "            fact=\"The user felt the music in the shop was too loud.\"\n",
        "        ),\n",
        "    ],\n",
        ")\n",
        "\n",
        "noop_example = GenerateMemoriesExample(\n",
        "    conversation_source=ConversationSource(\n",
        "        events=[\n",
        "            ConversationSourceEvent(\n",
        "                content=Content(\n",
        "                    role=\"model\",\n",
        "                    parts=[\n",
        "                        Part(\n",
        "                            text=\"Welcome back to The Daily Grind! We'd love to hear your feedback on your visit.\"\n",
        "                        )\n",
        "                    ],\n",
        "                )\n",
        "            ),\n",
        "            ConversationSourceEvent(\n",
        "                content=Content(\n",
        "                    role=\"user\", parts=[Part(text=\"Thanks for the coffee!\")]\n",
        "                )\n",
        "            ),\n",
        "        ]\n",
        "    ),\n",
        "    generated_memories=[],\n",
        ")\n",
        "\n",
        "client.agent_engines.update(\n",
        "    name=agent_engine.api_resource.name,\n",
        "    config={\n",
        "        \"context_spec\": {\n",
        "            \"memory_bank_config\": {\n",
        "                \"customization_configs\": [\n",
        "                    CustomizationConfig(\n",
        "                        memory_topics=[memory_topic],\n",
        "                        generate_memories_examples=[example, noop_example],\n",
        "                    )\n",
        "                ],\n",
        "            }\n",
        "        }\n",
        "    },\n",
        ")"
      ]
    },
    {
      "cell_type": "code",
      "execution_count": null,
      "metadata": {
        "id": "XE783Z_TDHC_"
      },
      "outputs": [],
      "source": [
        "client.agent_engines.memories.generate(\n",
        "    scope={\"user_id\": \"123\"},\n",
        "    name=agent_engine.api_resource.name,\n",
        "    direct_contents_source={\n",
        "        \"events\": [\n",
        "            {\n",
        "                \"content\": {\n",
        "                    \"role\": \"user\",\n",
        "                    \"parts\": [{\"text\": \"I prefer the aisle seat\"}],\n",
        "                }\n",
        "            }\n",
        "        ]\n",
        "    },\n",
        ")"
      ]
    },
    {
      "cell_type": "code",
      "execution_count": null,
      "metadata": {
        "id": "u1j8iPHBdg6n"
      },
      "outputs": [],
      "source": [
        "import vertexai\n",
        "\n",
        "client.agent_engines.memories.generate(\n",
        "    scope={\"user_id\": \"123\"},\n",
        "    name=agent_engine.api_resource.name,\n",
        "    direct_contents_source={\n",
        "        \"events\": [\n",
        "            {\n",
        "                \"content\": {\n",
        "                    \"role\": \"user\",\n",
        "                    \"parts\": [{\"text\": \"You should have almond milk\"}],\n",
        "                }\n",
        "            }\n",
        "        ]\n",
        "    },\n",
        ")"
      ]
    },
    {
      "cell_type": "code",
      "execution_count": null,
      "metadata": {
        "id": "DJ7v62dIePo9"
      },
      "outputs": [],
      "source": [
        "list(\n",
        "    client.agent_engines.memories.retrieve(\n",
        "        name=agent_engine.api_resource.name, scope={\"user_id\": \"123\"}\n",
        "    )\n",
        ")"
      ]
    },
    {
      "cell_type": "markdown",
      "metadata": {
        "id": "KVPXrs2GS_ZJ"
      },
      "source": [
        "### Dynamic TTL\n",
        "\n",
        "You can also configure Memory Bank to automatically set the TTL for any generated or manually created (or updated) memories."
      ]
    },
    {
      "cell_type": "markdown",
      "metadata": {
        "id": "Dtf5AcltTV2I"
      },
      "source": [
        "#### Default TTL\n",
        "\n",
        "Default TTL applies to all operations that create or update a Memory."
      ]
    },
    {
      "cell_type": "code",
      "execution_count": null,
      "metadata": {
        "id": "vQZKHD-TS-qD"
      },
      "outputs": [],
      "source": [
        "client.agent_engines.update(\n",
        "    name=agent_engine.api_resource.name,\n",
        "    config={\n",
        "        \"context_spec\": {\n",
        "            \"memory_bank_config\": {\n",
        "                \"ttl_config\": {\n",
        "                    # 30 days\n",
        "                    \"default_ttl\": f\"{60 * 60 * 24 * 30}s\"\n",
        "                }\n",
        "            }\n",
        "        }\n",
        "    },\n",
        ")"
      ]
    },
    {
      "cell_type": "code",
      "execution_count": null,
      "metadata": {
        "id": "vICeAqPyCaT0"
      },
      "outputs": [],
      "source": [
        "response = client.agent_engines.memories.generate(\n",
        "    scope={\"user_id\": USER_ID},\n",
        "    name=agent_engine.api_resource.name,\n",
        "    direct_contents_source={\n",
        "        \"events\": [\n",
        "            {\"content\": {\"role\": \"user\", \"parts\": [{\"text\": \"I have four nieces!\"}]}}\n",
        "        ]\n",
        "    },\n",
        "    config={\"wait_for_completion\": True},\n",
        ")\n",
        "\n",
        "client.agent_engines.memories.get(\n",
        "    name=response.response.generated_memories[0].memory.name\n",
        ")"
      ]
    },
    {
      "cell_type": "markdown",
      "metadata": {
        "id": "Oa0A4ogWT8BM"
      },
      "source": [
        "#### Granular TTL\n",
        "\n",
        "The TTL is calculated based on which operation created or updated the Memory. If not set for a given operation, then the operation won't update the Memory's expiration time.\n",
        "\n",
        "Parameters include:\n",
        " * `create_ttl`: Applies to Memories created with CreateMemory operations\n",
        " * `generate_created_ttl`: Applies to Memories created with GenerateMemories\n",
        " * `generate_updated_ttl`: Applies to Memories updated with GenerateMemories"
      ]
    },
    {
      "cell_type": "code",
      "execution_count": null,
      "metadata": {
        "id": "3g02gtyrT7fG"
      },
      "outputs": [],
      "source": [
        "client.agent_engines.update(\n",
        "    name=agent_engine.api_resource.name,\n",
        "    config={\n",
        "        \"context_spec\": {\n",
        "            \"memory_bank_config\": {\n",
        "                \"ttl_config\": {\n",
        "                    \"granular_ttl_config\": {\n",
        "                        # 365 days\n",
        "                        \"generate_created_ttl\": f\"{24 * 60 * 60 * 365}s\",\n",
        "                    }\n",
        "                }\n",
        "            }\n",
        "        }\n",
        "    },\n",
        ")"
      ]
    },
    {
      "cell_type": "code",
      "execution_count": null,
      "metadata": {
        "id": "dT3ffaBksw99"
      },
      "outputs": [],
      "source": [
        "response = client.agent_engines.memories.generate(\n",
        "    scope={\"user_id\": USER_ID},\n",
        "    name=agent_engine.api_resource.name,\n",
        "    direct_contents_source={\n",
        "        \"events\": [\n",
        "            {\n",
        "                \"content\": {\n",
        "                    \"role\": \"user\",\n",
        "                    \"parts\": [{\"text\": \"Remember that I work at Zindua School!\"}],\n",
        "                }\n",
        "            }\n",
        "        ]\n",
        "    },\n",
        ")\n",
        "\n",
        "client.agent_engines.memories.get(\n",
        "    name=response.response.generated_memories[0].memory.name\n",
        ")"
      ]
    },
    {
      "cell_type": "code",
      "execution_count": null,
      "metadata": {
        "id": "O6UGzBpCTpHB"
      },
      "outputs": [],
      "source": [
        "response = client.agent_engines.memories.generate(\n",
        "    scope={\"user_id\": USER_ID},\n",
        "    name=agent_engine.api_resource.name,\n",
        "    direct_contents_source={\n",
        "        \"events\": [\n",
        "            {\"content\": {\"role\": \"user\", \"parts\": [{\"text\": \"I work at Google!\"}]}}\n",
        "        ]\n",
        "    },\n",
        ")\n",
        "\n",
        "client.agent_engines.memories.get(\n",
        "    name=response.response.generated_memories[0].memory.name\n",
        ")"
      ]
    },
    {
      "cell_type": "markdown",
      "metadata": {
        "id": "a678c7a2bf29"
      },
      "source": [
        "## Cleaning up\n",
        "\n",
        "It's always a best practice in cloud development to clean up resources you no longer need to avoid incurring unexpected costs. This final cell deletes the AgentEngine resources we created throughout this tutorial."
      ]
    },
    {
      "cell_type": "code",
      "execution_count": null,
      "metadata": {
        "id": "10fe83835935"
      },
      "outputs": [],
      "source": [
        "delete_agent_engines = True\n",
        "\n",
        "agent_engine_name = agent_engine.api_resource.name\n",
        "\n",
        "if delete_agent_engines:\n",
        "    # Delete agent engine\n",
        "    client.agent_engines.delete(name=agent_engine_name, force=True)"
      ]
    }
  ],
  "metadata": {
    "colab": {
      "provenance": []
    },
    "kernelspec": {
      "display_name": "Python 3",
      "name": "python3"
    }
  },
  "nbformat": 4,
  "nbformat_minor": 0
}